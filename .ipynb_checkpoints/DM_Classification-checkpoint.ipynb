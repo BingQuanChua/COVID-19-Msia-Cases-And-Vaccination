{
 "cells": [
  {
   "cell_type": "code",
   "execution_count": 1,
   "metadata": {},
   "outputs": [],
   "source": [
    "import pandas as pd\n",
    "import numpy as np\n",
    "import matplotlib.pyplot as plt\n",
    "import seaborn as sns\n",
    "import plotly.express as px\n",
    "import plotly.graph_objects as go\n",
    "import math\n",
    "import pickle\n",
    "from datetime import datetime, timedelta\n",
    "\n",
    "from imblearn.over_sampling import SMOTE\n",
    "from collections import Counter"
   ]
  },
  {
   "cell_type": "code",
   "execution_count": 2,
   "metadata": {},
   "outputs": [],
   "source": [
    "##### EPIDEMIC dataset #####\n",
    "## Cases and Testing\n",
    "cases_malaysia = pickle.load(open('pickle_files/cases_malaysia.pkl', 'rb'))\n",
    "cases_state = pickle.load(open('pickle_files/cases_state.pkl', 'rb')) \n",
    "\n",
    "tests_malaysia = pickle.load(open('pickle_files/tests_malaysia.pkl', 'rb')) \n",
    "tests_state = pickle.load(open('pickle_files/tests_state.pkl', 'rb')) \n",
    "\n",
    "## Deaths\n",
    "deaths_malaysia = pickle.load(open('pickle_files/deaths_malaysia.pkl', 'rb'))\n",
    "deaths_state = pickle.load(open('pickle_files/deaths_state.pkl', 'rb')) \n",
    "\n",
    "## Static Data\n",
    "population = pd.read_csv('dataset/static/population_moh.csv')\n",
    "\n",
    "##### VACCINATION & REGISTRATION dataset #####\n",
    "## Adverse Events Following Immunization (AEFI)\n",
    "# aefi = pickle.load(open('pickle_files/aefi.pkl', 'rb'))\n",
    "# aefi_serious = pickle.load(open('pickle_files/aefi_serious.pkl', 'rb'))\n",
    "\n",
    "## Vaccination\n",
    "vax_malaysia = pickle.load(open('pickle_files/vax_malaysia.pkl', 'rb'))\n",
    "vax_state = pickle.load(open('pickle_files/vax_state.pkl', 'rb'))\n",
    "\n",
    "## Registration\n",
    "# vaxreg_malaysia = pickle.load(open('pickle_files/vaxreg_malaysia.pkl', 'rb'))\n",
    "# vaxreg_state = pickle.load(open('pickle_files/vaxreg_state.pkl', 'rb'))\n",
    "\n",
    "##### MYSEJAHTERA dataset #####\n",
    "checkin_malaysia = pickle.load(open('pickle_files/checkin_malaysia.pkl', 'rb'))\n",
    "checkin_malaysia_time = pickle.load(open('pickle_files/checkin_malaysia_time.pkl', 'rb'))\n",
    "checkin_state = pickle.load(open('pickle_files/checkin_state.pkl', 'rb'))\n",
    "trace_malaysia = pickle.load(open('pickle_files/trace_malaysia.pkl', 'rb'))"
   ]
  },
  {
   "cell_type": "code",
   "execution_count": null,
   "metadata": {},
   "outputs": [],
   "source": []
  },
  {
   "cell_type": "markdown",
   "metadata": {},
   "source": [
    "# Todo\n",
    "\n",
    "1. Identify data range and merge data (data preprocessing)\n",
    "2. Find a way to group previous data (window sliding if needed)\n",
    "3. Identify key dates of MCO and label it"
   ]
  },
  {
   "cell_type": "markdown",
   "metadata": {},
   "source": [
    "### cases_malaysia\n",
    "2020-01-25 to 2021-10-05"
   ]
  },
  {
   "cell_type": "code",
   "execution_count": 3,
   "metadata": {},
   "outputs": [
    {
     "data": {
      "text/html": [
       "<div>\n",
       "<style scoped>\n",
       "    .dataframe tbody tr th:only-of-type {\n",
       "        vertical-align: middle;\n",
       "    }\n",
       "\n",
       "    .dataframe tbody tr th {\n",
       "        vertical-align: top;\n",
       "    }\n",
       "\n",
       "    .dataframe thead th {\n",
       "        text-align: right;\n",
       "    }\n",
       "</style>\n",
       "<table border=\"1\" class=\"dataframe\">\n",
       "  <thead>\n",
       "    <tr style=\"text-align: right;\">\n",
       "      <th></th>\n",
       "      <th>date</th>\n",
       "      <th>cases_new</th>\n",
       "      <th>cases_import</th>\n",
       "      <th>cases_recovered</th>\n",
       "      <th>cases_active</th>\n",
       "      <th>cases_cluster</th>\n",
       "      <th>cases_pvax</th>\n",
       "      <th>cases_fvax</th>\n",
       "      <th>cases_child</th>\n",
       "      <th>cases_adolescent</th>\n",
       "      <th>cases_adult</th>\n",
       "      <th>cases_elderly</th>\n",
       "    </tr>\n",
       "  </thead>\n",
       "  <tbody>\n",
       "    <tr>\n",
       "      <th>0</th>\n",
       "      <td>2020-01-25</td>\n",
       "      <td>4</td>\n",
       "      <td>4</td>\n",
       "      <td>0</td>\n",
       "      <td>4</td>\n",
       "      <td>0</td>\n",
       "      <td>0</td>\n",
       "      <td>0</td>\n",
       "      <td>0</td>\n",
       "      <td>0</td>\n",
       "      <td>1</td>\n",
       "      <td>0</td>\n",
       "    </tr>\n",
       "  </tbody>\n",
       "</table>\n",
       "</div>"
      ],
      "text/plain": [
       "         date  cases_new  cases_import  cases_recovered  cases_active  \\\n",
       "0  2020-01-25          4             4                0             4   \n",
       "\n",
       "   cases_cluster  cases_pvax  cases_fvax  cases_child  cases_adolescent  \\\n",
       "0              0           0           0            0                 0   \n",
       "\n",
       "   cases_adult  cases_elderly  \n",
       "0            1              0  "
      ]
     },
     "execution_count": 3,
     "metadata": {},
     "output_type": "execute_result"
    }
   ],
   "source": [
    "cases_malaysia.head(1)"
   ]
  },
  {
   "cell_type": "markdown",
   "metadata": {},
   "source": [
    "### tests_malaysia\n",
    "2020-01-24 to 2021-10-02"
   ]
  },
  {
   "cell_type": "code",
   "execution_count": 4,
   "metadata": {},
   "outputs": [
    {
     "data": {
      "text/html": [
       "<div>\n",
       "<style scoped>\n",
       "    .dataframe tbody tr th:only-of-type {\n",
       "        vertical-align: middle;\n",
       "    }\n",
       "\n",
       "    .dataframe tbody tr th {\n",
       "        vertical-align: top;\n",
       "    }\n",
       "\n",
       "    .dataframe thead th {\n",
       "        text-align: right;\n",
       "    }\n",
       "</style>\n",
       "<table border=\"1\" class=\"dataframe\">\n",
       "  <thead>\n",
       "    <tr style=\"text-align: right;\">\n",
       "      <th></th>\n",
       "      <th>date</th>\n",
       "      <th>rtk-ag</th>\n",
       "      <th>pcr</th>\n",
       "    </tr>\n",
       "  </thead>\n",
       "  <tbody>\n",
       "    <tr>\n",
       "      <th>0</th>\n",
       "      <td>2020-01-24</td>\n",
       "      <td>0</td>\n",
       "      <td>2</td>\n",
       "    </tr>\n",
       "  </tbody>\n",
       "</table>\n",
       "</div>"
      ],
      "text/plain": [
       "         date  rtk-ag  pcr\n",
       "0  2020-01-24       0    2"
      ]
     },
     "execution_count": 4,
     "metadata": {},
     "output_type": "execute_result"
    }
   ],
   "source": [
    "tests_malaysia.head(1)"
   ]
  },
  {
   "cell_type": "markdown",
   "metadata": {},
   "source": [
    "### deaths_malaysia\n",
    "2020-03-17 to 2021-10-05\n",
    "<br>\n",
    "[First patient to die from Covid19 occured on 03-17](https://www.channelnewsasia.com/asia/malaysia-first-covid-19-death-kuching-sarawak-pastor-church-772771)"
   ]
  },
  {
   "cell_type": "code",
   "execution_count": 5,
   "metadata": {},
   "outputs": [
    {
     "data": {
      "text/html": [
       "<div>\n",
       "<style scoped>\n",
       "    .dataframe tbody tr th:only-of-type {\n",
       "        vertical-align: middle;\n",
       "    }\n",
       "\n",
       "    .dataframe tbody tr th {\n",
       "        vertical-align: top;\n",
       "    }\n",
       "\n",
       "    .dataframe thead th {\n",
       "        text-align: right;\n",
       "    }\n",
       "</style>\n",
       "<table border=\"1\" class=\"dataframe\">\n",
       "  <thead>\n",
       "    <tr style=\"text-align: right;\">\n",
       "      <th></th>\n",
       "      <th>date</th>\n",
       "      <th>deaths_new</th>\n",
       "      <th>deaths_bid</th>\n",
       "      <th>deaths_new_dod</th>\n",
       "      <th>deaths_bid_dod</th>\n",
       "      <th>deaths_pvax</th>\n",
       "      <th>deaths_fvax</th>\n",
       "      <th>deaths_tat</th>\n",
       "    </tr>\n",
       "  </thead>\n",
       "  <tbody>\n",
       "    <tr>\n",
       "      <th>0</th>\n",
       "      <td>2020-03-17</td>\n",
       "      <td>2</td>\n",
       "      <td>0</td>\n",
       "      <td>2</td>\n",
       "      <td>0</td>\n",
       "      <td>0</td>\n",
       "      <td>0</td>\n",
       "      <td>0</td>\n",
       "    </tr>\n",
       "  </tbody>\n",
       "</table>\n",
       "</div>"
      ],
      "text/plain": [
       "         date  deaths_new  deaths_bid  deaths_new_dod  deaths_bid_dod  \\\n",
       "0  2020-03-17           2           0               2               0   \n",
       "\n",
       "   deaths_pvax  deaths_fvax  deaths_tat  \n",
       "0            0            0           0  "
      ]
     },
     "execution_count": 5,
     "metadata": {},
     "output_type": "execute_result"
    }
   ],
   "source": [
    "deaths_malaysia.head(1)"
   ]
  },
  {
   "cell_type": "markdown",
   "metadata": {},
   "source": [
    "### vax_malaysia\n",
    "2021-02-24 to 2021-10-05\n",
    "<br>\n",
    "[First vaccination started at Feb 24](https://www.straitstimes.com/asia/se-asia/pm-muhyiddin-receives-first-covid-19-vaccine-as-malaysia-kicks-off-mass-inoculation)"
   ]
  },
  {
   "cell_type": "code",
   "execution_count": 6,
   "metadata": {},
   "outputs": [
    {
     "data": {
      "text/html": [
       "<div>\n",
       "<style scoped>\n",
       "    .dataframe tbody tr th:only-of-type {\n",
       "        vertical-align: middle;\n",
       "    }\n",
       "\n",
       "    .dataframe tbody tr th {\n",
       "        vertical-align: top;\n",
       "    }\n",
       "\n",
       "    .dataframe thead th {\n",
       "        text-align: right;\n",
       "    }\n",
       "</style>\n",
       "<table border=\"1\" class=\"dataframe\">\n",
       "  <thead>\n",
       "    <tr style=\"text-align: right;\">\n",
       "      <th></th>\n",
       "      <th>date</th>\n",
       "      <th>daily_partial</th>\n",
       "      <th>daily_full</th>\n",
       "      <th>daily</th>\n",
       "      <th>daily_partial_child</th>\n",
       "      <th>daily_full_child</th>\n",
       "      <th>cumul_partial</th>\n",
       "      <th>cumul_full</th>\n",
       "      <th>cumul</th>\n",
       "      <th>cumul_partial_child</th>\n",
       "      <th>cumul_full_child</th>\n",
       "      <th>pfizer1</th>\n",
       "      <th>pfizer2</th>\n",
       "      <th>sinovac1</th>\n",
       "      <th>sinovac2</th>\n",
       "      <th>astra1</th>\n",
       "      <th>astra2</th>\n",
       "      <th>cansino</th>\n",
       "      <th>pending</th>\n",
       "    </tr>\n",
       "  </thead>\n",
       "  <tbody>\n",
       "    <tr>\n",
       "      <th>0</th>\n",
       "      <td>2021-02-24</td>\n",
       "      <td>60</td>\n",
       "      <td>0</td>\n",
       "      <td>60</td>\n",
       "      <td>0</td>\n",
       "      <td>0</td>\n",
       "      <td>60</td>\n",
       "      <td>0</td>\n",
       "      <td>60</td>\n",
       "      <td>0</td>\n",
       "      <td>0</td>\n",
       "      <td>60</td>\n",
       "      <td>0</td>\n",
       "      <td>0</td>\n",
       "      <td>0</td>\n",
       "      <td>0</td>\n",
       "      <td>0</td>\n",
       "      <td>0</td>\n",
       "      <td>0</td>\n",
       "    </tr>\n",
       "  </tbody>\n",
       "</table>\n",
       "</div>"
      ],
      "text/plain": [
       "        date  daily_partial  daily_full  daily  daily_partial_child  \\\n",
       "0 2021-02-24             60           0     60                    0   \n",
       "\n",
       "   daily_full_child  cumul_partial  cumul_full  cumul  cumul_partial_child  \\\n",
       "0                 0             60           0     60                    0   \n",
       "\n",
       "   cumul_full_child  pfizer1  pfizer2  sinovac1  sinovac2  astra1  astra2  \\\n",
       "0                 0       60        0         0         0       0       0   \n",
       "\n",
       "   cansino  pending  \n",
       "0        0        0  "
      ]
     },
     "execution_count": 6,
     "metadata": {},
     "output_type": "execute_result"
    }
   ],
   "source": [
    "vax_malaysia.head(1)"
   ]
  },
  {
   "cell_type": "markdown",
   "metadata": {},
   "source": [
    "### checkin_malaysia\n",
    "2020-12-01 to 2021-10-05\n",
    "<br>\n",
    "Unable to track the reason why checkins data starts at 2020-12-01"
   ]
  },
  {
   "cell_type": "code",
   "execution_count": 7,
   "metadata": {},
   "outputs": [
    {
     "data": {
      "text/html": [
       "<div>\n",
       "<style scoped>\n",
       "    .dataframe tbody tr th:only-of-type {\n",
       "        vertical-align: middle;\n",
       "    }\n",
       "\n",
       "    .dataframe tbody tr th {\n",
       "        vertical-align: top;\n",
       "    }\n",
       "\n",
       "    .dataframe thead th {\n",
       "        text-align: right;\n",
       "    }\n",
       "</style>\n",
       "<table border=\"1\" class=\"dataframe\">\n",
       "  <thead>\n",
       "    <tr style=\"text-align: right;\">\n",
       "      <th></th>\n",
       "      <th>date</th>\n",
       "      <th>checkins</th>\n",
       "      <th>unique_ind</th>\n",
       "      <th>unique_loc</th>\n",
       "    </tr>\n",
       "  </thead>\n",
       "  <tbody>\n",
       "    <tr>\n",
       "      <th>0</th>\n",
       "      <td>2020-12-01</td>\n",
       "      <td>17492265</td>\n",
       "      <td>6614474</td>\n",
       "      <td>630363</td>\n",
       "    </tr>\n",
       "  </tbody>\n",
       "</table>\n",
       "</div>"
      ],
      "text/plain": [
       "        date  checkins  unique_ind  unique_loc\n",
       "0 2020-12-01  17492265     6614474      630363"
      ]
     },
     "execution_count": 7,
     "metadata": {},
     "output_type": "execute_result"
    }
   ],
   "source": [
    "checkin_malaysia.head(1)"
   ]
  },
  {
   "cell_type": "code",
   "execution_count": 8,
   "metadata": {},
   "outputs": [
    {
     "data": {
      "text/html": [
       "<div>\n",
       "<style scoped>\n",
       "    .dataframe tbody tr th:only-of-type {\n",
       "        vertical-align: middle;\n",
       "    }\n",
       "\n",
       "    .dataframe tbody tr th {\n",
       "        vertical-align: top;\n",
       "    }\n",
       "\n",
       "    .dataframe thead th {\n",
       "        text-align: right;\n",
       "    }\n",
       "</style>\n",
       "<table border=\"1\" class=\"dataframe\">\n",
       "  <thead>\n",
       "    <tr style=\"text-align: right;\">\n",
       "      <th></th>\n",
       "      <th>date</th>\n",
       "      <th>checkins</th>\n",
       "      <th>unique_ind</th>\n",
       "      <th>unique_loc</th>\n",
       "    </tr>\n",
       "  </thead>\n",
       "  <tbody>\n",
       "    <tr>\n",
       "      <th>308</th>\n",
       "      <td>2021-10-05</td>\n",
       "      <td>28991261</td>\n",
       "      <td>10785507</td>\n",
       "      <td>887285</td>\n",
       "    </tr>\n",
       "  </tbody>\n",
       "</table>\n",
       "</div>"
      ],
      "text/plain": [
       "          date  checkins  unique_ind  unique_loc\n",
       "308 2021-10-05  28991261    10785507      887285"
      ]
     },
     "execution_count": 8,
     "metadata": {},
     "output_type": "execute_result"
    }
   ],
   "source": [
    "checkin_malaysia.tail(1)"
   ]
  },
  {
   "cell_type": "markdown",
   "metadata": {},
   "source": [
    "### trace_malaysia\n",
    "2020-04-20 to 2021-10-05\n",
    "<br>\n",
    "Unable to track the reason why trace data starts at 2021-04-20"
   ]
  },
  {
   "cell_type": "code",
   "execution_count": 9,
   "metadata": {},
   "outputs": [
    {
     "data": {
      "text/html": [
       "<div>\n",
       "<style scoped>\n",
       "    .dataframe tbody tr th:only-of-type {\n",
       "        vertical-align: middle;\n",
       "    }\n",
       "\n",
       "    .dataframe tbody tr th {\n",
       "        vertical-align: top;\n",
       "    }\n",
       "\n",
       "    .dataframe thead th {\n",
       "        text-align: right;\n",
       "    }\n",
       "</style>\n",
       "<table border=\"1\" class=\"dataframe\">\n",
       "  <thead>\n",
       "    <tr style=\"text-align: right;\">\n",
       "      <th></th>\n",
       "      <th>date</th>\n",
       "      <th>casual_contacts</th>\n",
       "      <th>hide_large</th>\n",
       "      <th>hide_small</th>\n",
       "    </tr>\n",
       "  </thead>\n",
       "  <tbody>\n",
       "    <tr>\n",
       "      <th>0</th>\n",
       "      <td>2021-04-20</td>\n",
       "      <td>18550</td>\n",
       "      <td>70.0</td>\n",
       "      <td>628.0</td>\n",
       "    </tr>\n",
       "  </tbody>\n",
       "</table>\n",
       "</div>"
      ],
      "text/plain": [
       "        date  casual_contacts  hide_large  hide_small\n",
       "0 2021-04-20            18550        70.0       628.0"
      ]
     },
     "execution_count": 9,
     "metadata": {},
     "output_type": "execute_result"
    }
   ],
   "source": [
    "trace_malaysia.head(1)"
   ]
  },
  {
   "cell_type": "code",
   "execution_count": 10,
   "metadata": {},
   "outputs": [
    {
     "data": {
      "text/html": [
       "<div>\n",
       "<style scoped>\n",
       "    .dataframe tbody tr th:only-of-type {\n",
       "        vertical-align: middle;\n",
       "    }\n",
       "\n",
       "    .dataframe tbody tr th {\n",
       "        vertical-align: top;\n",
       "    }\n",
       "\n",
       "    .dataframe thead th {\n",
       "        text-align: right;\n",
       "    }\n",
       "</style>\n",
       "<table border=\"1\" class=\"dataframe\">\n",
       "  <thead>\n",
       "    <tr style=\"text-align: right;\">\n",
       "      <th></th>\n",
       "      <th>date</th>\n",
       "      <th>casual_contacts</th>\n",
       "      <th>hide_large</th>\n",
       "      <th>hide_small</th>\n",
       "    </tr>\n",
       "  </thead>\n",
       "  <tbody>\n",
       "    <tr>\n",
       "      <th>167</th>\n",
       "      <td>2021-10-05</td>\n",
       "      <td>37312</td>\n",
       "      <td>39.0</td>\n",
       "      <td>841.0</td>\n",
       "    </tr>\n",
       "  </tbody>\n",
       "</table>\n",
       "</div>"
      ],
      "text/plain": [
       "          date  casual_contacts  hide_large  hide_small\n",
       "167 2021-10-05            37312        39.0       841.0"
      ]
     },
     "execution_count": 10,
     "metadata": {},
     "output_type": "execute_result"
    }
   ],
   "source": [
    "trace_malaysia.tail(1)"
   ]
  },
  {
   "cell_type": "code",
   "execution_count": 21,
   "metadata": {},
   "outputs": [
    {
     "data": {
      "text/html": [
       "<div>\n",
       "<style scoped>\n",
       "    .dataframe tbody tr th:only-of-type {\n",
       "        vertical-align: middle;\n",
       "    }\n",
       "\n",
       "    .dataframe tbody tr th {\n",
       "        vertical-align: top;\n",
       "    }\n",
       "\n",
       "    .dataframe thead th {\n",
       "        text-align: right;\n",
       "    }\n",
       "</style>\n",
       "<table border=\"1\" class=\"dataframe\">\n",
       "  <thead>\n",
       "    <tr style=\"text-align: right;\">\n",
       "      <th></th>\n",
       "      <th>state</th>\n",
       "      <th>idxs</th>\n",
       "      <th>pop</th>\n",
       "      <th>pop_18</th>\n",
       "      <th>pop_60</th>\n",
       "      <th>pop_12</th>\n",
       "    </tr>\n",
       "  </thead>\n",
       "  <tbody>\n",
       "    <tr>\n",
       "      <th>0</th>\n",
       "      <td>Malaysia</td>\n",
       "      <td>0</td>\n",
       "      <td>32657400</td>\n",
       "      <td>23409600</td>\n",
       "      <td>3502000</td>\n",
       "      <td>3147500</td>\n",
       "    </tr>\n",
       "    <tr>\n",
       "      <th>1</th>\n",
       "      <td>Johor</td>\n",
       "      <td>1</td>\n",
       "      <td>3781000</td>\n",
       "      <td>2711900</td>\n",
       "      <td>428700</td>\n",
       "      <td>359900</td>\n",
       "    </tr>\n",
       "    <tr>\n",
       "      <th>2</th>\n",
       "      <td>Kedah</td>\n",
       "      <td>2</td>\n",
       "      <td>2185100</td>\n",
       "      <td>1540600</td>\n",
       "      <td>272500</td>\n",
       "      <td>211400</td>\n",
       "    </tr>\n",
       "    <tr>\n",
       "      <th>3</th>\n",
       "      <td>Kelantan</td>\n",
       "      <td>3</td>\n",
       "      <td>1906700</td>\n",
       "      <td>1236200</td>\n",
       "      <td>194100</td>\n",
       "      <td>210600</td>\n",
       "    </tr>\n",
       "    <tr>\n",
       "      <th>4</th>\n",
       "      <td>Melaka</td>\n",
       "      <td>4</td>\n",
       "      <td>932700</td>\n",
       "      <td>677400</td>\n",
       "      <td>118500</td>\n",
       "      <td>86500</td>\n",
       "    </tr>\n",
       "    <tr>\n",
       "      <th>5</th>\n",
       "      <td>Negeri Sembilan</td>\n",
       "      <td>5</td>\n",
       "      <td>1128800</td>\n",
       "      <td>814400</td>\n",
       "      <td>145000</td>\n",
       "      <td>109400</td>\n",
       "    </tr>\n",
       "    <tr>\n",
       "      <th>6</th>\n",
       "      <td>Pahang</td>\n",
       "      <td>6</td>\n",
       "      <td>1678700</td>\n",
       "      <td>1175800</td>\n",
       "      <td>190200</td>\n",
       "      <td>173000</td>\n",
       "    </tr>\n",
       "    <tr>\n",
       "      <th>7</th>\n",
       "      <td>Pulau Pinang</td>\n",
       "      <td>7</td>\n",
       "      <td>1773600</td>\n",
       "      <td>1367200</td>\n",
       "      <td>239200</td>\n",
       "      <td>141500</td>\n",
       "    </tr>\n",
       "    <tr>\n",
       "      <th>8</th>\n",
       "      <td>Perak</td>\n",
       "      <td>8</td>\n",
       "      <td>2510300</td>\n",
       "      <td>1862700</td>\n",
       "      <td>397300</td>\n",
       "      <td>237200</td>\n",
       "    </tr>\n",
       "    <tr>\n",
       "      <th>9</th>\n",
       "      <td>Perlis</td>\n",
       "      <td>9</td>\n",
       "      <td>254900</td>\n",
       "      <td>181200</td>\n",
       "      <td>35100</td>\n",
       "      <td>23100</td>\n",
       "    </tr>\n",
       "    <tr>\n",
       "      <th>10</th>\n",
       "      <td>Selangor</td>\n",
       "      <td>10</td>\n",
       "      <td>6538000</td>\n",
       "      <td>4747900</td>\n",
       "      <td>575800</td>\n",
       "      <td>569100</td>\n",
       "    </tr>\n",
       "    <tr>\n",
       "      <th>11</th>\n",
       "      <td>Terengganu</td>\n",
       "      <td>11</td>\n",
       "      <td>1259300</td>\n",
       "      <td>808400</td>\n",
       "      <td>115200</td>\n",
       "      <td>138100</td>\n",
       "    </tr>\n",
       "    <tr>\n",
       "      <th>12</th>\n",
       "      <td>Sabah</td>\n",
       "      <td>12</td>\n",
       "      <td>3908500</td>\n",
       "      <td>2758400</td>\n",
       "      <td>238900</td>\n",
       "      <td>434000</td>\n",
       "    </tr>\n",
       "    <tr>\n",
       "      <th>13</th>\n",
       "      <td>Sarawak</td>\n",
       "      <td>13</td>\n",
       "      <td>2816500</td>\n",
       "      <td>2042700</td>\n",
       "      <td>332800</td>\n",
       "      <td>293200</td>\n",
       "    </tr>\n",
       "    <tr>\n",
       "      <th>14</th>\n",
       "      <td>W.P. Kuala Lumpur</td>\n",
       "      <td>14</td>\n",
       "      <td>1773700</td>\n",
       "      <td>1348600</td>\n",
       "      <td>205800</td>\n",
       "      <td>140800</td>\n",
       "    </tr>\n",
       "    <tr>\n",
       "      <th>15</th>\n",
       "      <td>W.P. Labuan</td>\n",
       "      <td>15</td>\n",
       "      <td>99600</td>\n",
       "      <td>68500</td>\n",
       "      <td>7900</td>\n",
       "      <td>10200</td>\n",
       "    </tr>\n",
       "    <tr>\n",
       "      <th>16</th>\n",
       "      <td>W.P. Putrajaya</td>\n",
       "      <td>16</td>\n",
       "      <td>110000</td>\n",
       "      <td>67700</td>\n",
       "      <td>5000</td>\n",
       "      <td>9500</td>\n",
       "    </tr>\n",
       "  </tbody>\n",
       "</table>\n",
       "</div>"
      ],
      "text/plain": [
       "                state  idxs       pop    pop_18   pop_60   pop_12\n",
       "0            Malaysia     0  32657400  23409600  3502000  3147500\n",
       "1               Johor     1   3781000   2711900   428700   359900\n",
       "2               Kedah     2   2185100   1540600   272500   211400\n",
       "3            Kelantan     3   1906700   1236200   194100   210600\n",
       "4              Melaka     4    932700    677400   118500    86500\n",
       "5     Negeri Sembilan     5   1128800    814400   145000   109400\n",
       "6              Pahang     6   1678700   1175800   190200   173000\n",
       "7        Pulau Pinang     7   1773600   1367200   239200   141500\n",
       "8               Perak     8   2510300   1862700   397300   237200\n",
       "9              Perlis     9    254900    181200    35100    23100\n",
       "10           Selangor    10   6538000   4747900   575800   569100\n",
       "11         Terengganu    11   1259300    808400   115200   138100\n",
       "12              Sabah    12   3908500   2758400   238900   434000\n",
       "13            Sarawak    13   2816500   2042700   332800   293200\n",
       "14  W.P. Kuala Lumpur    14   1773700   1348600   205800   140800\n",
       "15        W.P. Labuan    15     99600     68500     7900    10200\n",
       "16     W.P. Putrajaya    16    110000     67700     5000     9500"
      ]
     },
     "execution_count": 21,
     "metadata": {},
     "output_type": "execute_result"
    }
   ],
   "source": [
    "population"
   ]
  },
  {
   "cell_type": "code",
   "execution_count": 3,
   "metadata": {},
   "outputs": [],
   "source": [
    "malaysia_population = population[population['state']=='Malaysia']['pop'].sum()"
   ]
  },
  {
   "cell_type": "markdown",
   "metadata": {},
   "source": [
    "## Data Preprocess"
   ]
  },
  {
   "cell_type": "code",
   "execution_count": 4,
   "metadata": {},
   "outputs": [],
   "source": [
    "# input\n",
    "# - df\n",
    "# - string of attribute name\n",
    "# - sliding window, default is 7\n",
    "# - shiftNum for shifting the column, default 0 means no shifting.\n",
    "#\n",
    "# output\n",
    "# df with 2 more attributes\n",
    "# - normalized dimension\n",
    "# - normalized mov avg dimension\n",
    "\n",
    "def calculateMovAvg(df, attribute_name, window_number=7, shiftNum=0):\n",
    "    temp = df.copy()\n",
    "    min_max_range = temp[attribute_name].max() - temp[attribute_name].min()\n",
    "    new_attribute_name =  attribute_name + \"_norm\"\n",
    "    new_attribute_name_ma =  attribute_name + \"_norm_ma\" + str(window_number) + \"_shift\" + str(shiftNum)\n",
    "    temp[new_attribute_name] = (temp[attribute_name] - temp[attribute_name].min()) / min_max_range# * 100\n",
    "    temp[new_attribute_name_ma] = temp[new_attribute_name].rolling(window=window_number).mean().shift(shiftNum)\n",
    "    return temp"
   ]
  },
  {
   "cell_type": "code",
   "execution_count": 6,
   "metadata": {},
   "outputs": [
    {
     "name": "stderr",
     "output_type": "stream",
     "text": [
      "<ipython-input-6-5f8b1e97b035>:18: SettingWithCopyWarning: \n",
      "A value is trying to be set on a copy of a slice from a DataFrame.\n",
      "Try using .loc[row_indexer,col_indexer] = value instead\n",
      "\n",
      "See the caveats in the documentation: https://pandas.pydata.org/pandas-docs/stable/user_guide/indexing.html#returning-a-view-versus-a-copy\n",
      "  df_4['cumul_partial'] = df_4['cumul_partial'] / malaysia_population\n",
      "<ipython-input-6-5f8b1e97b035>:19: SettingWithCopyWarning: \n",
      "A value is trying to be set on a copy of a slice from a DataFrame.\n",
      "Try using .loc[row_indexer,col_indexer] = value instead\n",
      "\n",
      "See the caveats in the documentation: https://pandas.pydata.org/pandas-docs/stable/user_guide/indexing.html#returning-a-view-versus-a-copy\n",
      "  df_4['cumul_full'] = df_4['cumul_full'] / malaysia_population\n"
     ]
    }
   ],
   "source": [
    "# cases\n",
    "df_1 = cases_malaysia[['date','cases_new']]\n",
    "df_1 = calculateMovAvg(df_1, 'cases_new', 5, 0) # mov avg of last 7 days, including current day\n",
    "df_1 = calculateMovAvg(df_1, 'cases_new', 7, 0) # mov avg of last 7 days, including current day\n",
    "df_1 = calculateMovAvg(df_1, 'cases_new', 7, -1) # mov avg of last 7 days, excluding current day, training set label\n",
    "\n",
    "# tests\n",
    "df_2 = tests_malaysia[['date','rtk-ag','pcr']]\n",
    "df_2 = calculateMovAvg(df_2, 'rtk-ag')\n",
    "df_2 = calculateMovAvg(df_2, 'pcr')\n",
    "\n",
    "# deaths\n",
    "df_3 = deaths_malaysia[['date','deaths_new']]\n",
    "df_3 = calculateMovAvg(df_3, 'deaths_new')\n",
    "\n",
    "# vaccinations\n",
    "df_4 = vax_malaysia[['date','cumul_partial','cumul_full']]\n",
    "df_4['cumul_partial'] = df_4['cumul_partial'] / malaysia_population\n",
    "df_4['cumul_full'] = df_4['cumul_full'] / malaysia_population\n",
    "\n",
    "# checkins\n",
    "# checkin_malaysia\n",
    "\n",
    "# Trace\n",
    "# trace_malaysia"
   ]
  },
  {
   "cell_type": "markdown",
   "metadata": {},
   "source": [
    "### Merge data"
   ]
  },
  {
   "cell_type": "code",
   "execution_count": 7,
   "metadata": {},
   "outputs": [
    {
     "name": "stderr",
     "output_type": "stream",
     "text": [
      "<ipython-input-7-cd430f9d9112>:5: SettingWithCopyWarning: \n",
      "A value is trying to be set on a copy of a slice from a DataFrame.\n",
      "Try using .loc[row_indexer,col_indexer] = value instead\n",
      "\n",
      "See the caveats in the documentation: https://pandas.pydata.org/pandas-docs/stable/user_guide/indexing.html#returning-a-view-versus-a-copy\n",
      "  df_4['date'] = df_4['date'].astype('datetime64[ns]')\n"
     ]
    },
    {
     "data": {
      "text/html": [
       "<div>\n",
       "<style scoped>\n",
       "    .dataframe tbody tr th:only-of-type {\n",
       "        vertical-align: middle;\n",
       "    }\n",
       "\n",
       "    .dataframe tbody tr th {\n",
       "        vertical-align: top;\n",
       "    }\n",
       "\n",
       "    .dataframe thead th {\n",
       "        text-align: right;\n",
       "    }\n",
       "</style>\n",
       "<table border=\"1\" class=\"dataframe\">\n",
       "  <thead>\n",
       "    <tr style=\"text-align: right;\">\n",
       "      <th></th>\n",
       "      <th>date</th>\n",
       "      <th>cases_new</th>\n",
       "      <th>cases_new_norm</th>\n",
       "      <th>cases_new_norm_ma5_shift0</th>\n",
       "      <th>cases_new_norm_ma7_shift0</th>\n",
       "      <th>cases_new_norm_ma7_shift-1</th>\n",
       "      <th>rtk-ag</th>\n",
       "      <th>pcr</th>\n",
       "      <th>rtk-ag_norm</th>\n",
       "      <th>rtk-ag_norm_ma7_shift0</th>\n",
       "      <th>pcr_norm</th>\n",
       "      <th>pcr_norm_ma7_shift0</th>\n",
       "      <th>deaths_new</th>\n",
       "      <th>deaths_new_norm</th>\n",
       "      <th>deaths_new_norm_ma7_shift0</th>\n",
       "      <th>cumul_partial</th>\n",
       "      <th>cumul_full</th>\n",
       "    </tr>\n",
       "  </thead>\n",
       "  <tbody>\n",
       "    <tr>\n",
       "      <th>0</th>\n",
       "      <td>2020-01-25</td>\n",
       "      <td>4</td>\n",
       "      <td>0.000163</td>\n",
       "      <td>NaN</td>\n",
       "      <td>NaN</td>\n",
       "      <td>NaN</td>\n",
       "      <td>0.0</td>\n",
       "      <td>5.0</td>\n",
       "      <td>0.0</td>\n",
       "      <td>NaN</td>\n",
       "      <td>0.000033</td>\n",
       "      <td>NaN</td>\n",
       "      <td>NaN</td>\n",
       "      <td>NaN</td>\n",
       "      <td>NaN</td>\n",
       "      <td>NaN</td>\n",
       "      <td>NaN</td>\n",
       "    </tr>\n",
       "    <tr>\n",
       "      <th>1</th>\n",
       "      <td>2020-01-26</td>\n",
       "      <td>0</td>\n",
       "      <td>0.000000</td>\n",
       "      <td>NaN</td>\n",
       "      <td>NaN</td>\n",
       "      <td>NaN</td>\n",
       "      <td>0.0</td>\n",
       "      <td>14.0</td>\n",
       "      <td>0.0</td>\n",
       "      <td>NaN</td>\n",
       "      <td>0.000133</td>\n",
       "      <td>NaN</td>\n",
       "      <td>NaN</td>\n",
       "      <td>NaN</td>\n",
       "      <td>NaN</td>\n",
       "      <td>NaN</td>\n",
       "      <td>NaN</td>\n",
       "    </tr>\n",
       "    <tr>\n",
       "      <th>2</th>\n",
       "      <td>2020-01-27</td>\n",
       "      <td>0</td>\n",
       "      <td>0.000000</td>\n",
       "      <td>NaN</td>\n",
       "      <td>NaN</td>\n",
       "      <td>NaN</td>\n",
       "      <td>0.0</td>\n",
       "      <td>24.0</td>\n",
       "      <td>0.0</td>\n",
       "      <td>NaN</td>\n",
       "      <td>0.000244</td>\n",
       "      <td>NaN</td>\n",
       "      <td>NaN</td>\n",
       "      <td>NaN</td>\n",
       "      <td>NaN</td>\n",
       "      <td>NaN</td>\n",
       "      <td>NaN</td>\n",
       "    </tr>\n",
       "    <tr>\n",
       "      <th>3</th>\n",
       "      <td>2020-01-28</td>\n",
       "      <td>0</td>\n",
       "      <td>0.000000</td>\n",
       "      <td>NaN</td>\n",
       "      <td>NaN</td>\n",
       "      <td>NaN</td>\n",
       "      <td>0.0</td>\n",
       "      <td>53.0</td>\n",
       "      <td>0.0</td>\n",
       "      <td>NaN</td>\n",
       "      <td>0.000565</td>\n",
       "      <td>NaN</td>\n",
       "      <td>NaN</td>\n",
       "      <td>NaN</td>\n",
       "      <td>NaN</td>\n",
       "      <td>NaN</td>\n",
       "      <td>NaN</td>\n",
       "    </tr>\n",
       "    <tr>\n",
       "      <th>4</th>\n",
       "      <td>2020-01-29</td>\n",
       "      <td>3</td>\n",
       "      <td>0.000122</td>\n",
       "      <td>0.000057</td>\n",
       "      <td>NaN</td>\n",
       "      <td>NaN</td>\n",
       "      <td>0.0</td>\n",
       "      <td>71.0</td>\n",
       "      <td>0.0</td>\n",
       "      <td>NaN</td>\n",
       "      <td>0.000764</td>\n",
       "      <td>NaN</td>\n",
       "      <td>NaN</td>\n",
       "      <td>NaN</td>\n",
       "      <td>NaN</td>\n",
       "      <td>NaN</td>\n",
       "      <td>NaN</td>\n",
       "    </tr>\n",
       "  </tbody>\n",
       "</table>\n",
       "</div>"
      ],
      "text/plain": [
       "        date  cases_new  cases_new_norm  cases_new_norm_ma5_shift0  \\\n",
       "0 2020-01-25          4        0.000163                        NaN   \n",
       "1 2020-01-26          0        0.000000                        NaN   \n",
       "2 2020-01-27          0        0.000000                        NaN   \n",
       "3 2020-01-28          0        0.000000                        NaN   \n",
       "4 2020-01-29          3        0.000122                   0.000057   \n",
       "\n",
       "   cases_new_norm_ma7_shift0  cases_new_norm_ma7_shift-1  rtk-ag   pcr  \\\n",
       "0                        NaN                         NaN     0.0   5.0   \n",
       "1                        NaN                         NaN     0.0  14.0   \n",
       "2                        NaN                         NaN     0.0  24.0   \n",
       "3                        NaN                         NaN     0.0  53.0   \n",
       "4                        NaN                         NaN     0.0  71.0   \n",
       "\n",
       "   rtk-ag_norm  rtk-ag_norm_ma7_shift0  pcr_norm  pcr_norm_ma7_shift0  \\\n",
       "0          0.0                     NaN  0.000033                  NaN   \n",
       "1          0.0                     NaN  0.000133                  NaN   \n",
       "2          0.0                     NaN  0.000244                  NaN   \n",
       "3          0.0                     NaN  0.000565                  NaN   \n",
       "4          0.0                     NaN  0.000764                  NaN   \n",
       "\n",
       "   deaths_new  deaths_new_norm  deaths_new_norm_ma7_shift0  cumul_partial  \\\n",
       "0         NaN              NaN                         NaN            NaN   \n",
       "1         NaN              NaN                         NaN            NaN   \n",
       "2         NaN              NaN                         NaN            NaN   \n",
       "3         NaN              NaN                         NaN            NaN   \n",
       "4         NaN              NaN                         NaN            NaN   \n",
       "\n",
       "   cumul_full  \n",
       "0         NaN  \n",
       "1         NaN  \n",
       "2         NaN  \n",
       "3         NaN  \n",
       "4         NaN  "
      ]
     },
     "execution_count": 7,
     "metadata": {},
     "output_type": "execute_result"
    }
   ],
   "source": [
    "# preprocess data\n",
    "df_1['date'] = df_1['date'].astype('datetime64[ns]')\n",
    "df_2['date'] = df_2['date'].astype('datetime64[ns]')\n",
    "df_3['date'] = df_3['date'].astype('datetime64[ns]')\n",
    "df_4['date'] = df_4['date'].astype('datetime64[ns]')\n",
    "\n",
    "# merge df_1 cases + df_2 test\n",
    "df_merged = pd.merge(df_1, df_2, on='date', how='left', indicator=True)\n",
    "df_merged.drop(['_merge'], axis=1, inplace=True)\n",
    "\n",
    "# merge df_merged + df_3 deaths\n",
    "df_merged = pd.merge(df_merged, df_3, on='date', how='left', indicator=True)\n",
    "df_merged.drop(['_merge'], axis=1, inplace=True)\n",
    "\n",
    "# merge df_merged + df_4 vaccinations\n",
    "df_merged = pd.merge(df_merged, df_4, on='date', how='left', indicator=True)\n",
    "df_merged.drop(['_merge'], axis=1, inplace=True)\n",
    "\n",
    "df_merged.head(5)"
   ]
  },
  {
   "cell_type": "markdown",
   "metadata": {},
   "source": [
    "### Add new dimension"
   ]
  },
  {
   "cell_type": "code",
   "execution_count": 8,
   "metadata": {},
   "outputs": [
    {
     "name": "stdout",
     "output_type": "stream",
     "text": [
      "2020-02-14 00:00:00\n",
      "2020\n",
      "02\n",
      "06\n",
      "045\n",
      "Friday\n",
      "5\n"
     ]
    }
   ],
   "source": [
    "import datetime \n",
    "\n",
    "# get a random date from any df with 'date'\n",
    "x = df_merged.iloc[20,0]\n",
    "\n",
    "# print out results\n",
    "print(x)\n",
    "print(x.strftime(\"%Y\")) # Year, full version\n",
    "print(x.strftime(\"%m\")) # Month as a number 01-12\n",
    "print(x.strftime(\"%U\")) # Week number of year, Sunday as the first day of week, 00-53\n",
    "print(x.strftime(\"%j\")) # Day number of year 001-366\n",
    "print(x.strftime(\"%A\")) # Weekday, full version\n",
    "print(x.strftime(\"%w\")) # Weekday as a number 0-6, 0 is Sunday"
   ]
  },
  {
   "cell_type": "code",
   "execution_count": 9,
   "metadata": {},
   "outputs": [],
   "source": [
    "import datetime \n",
    "\n",
    "# Year, full version\n",
    "def strftime_year(date):\n",
    "    return date.strftime(\"%Y\")\n",
    "\n",
    "# Month as a number 01-12\n",
    "def strftime_monthNumber(date):\n",
    "    return date.strftime(\"%m\")\n",
    "\n",
    "# Week number of year, Sunday as the first day of week, 00-53\n",
    "def strftime_weekNumber(date):\n",
    "    return date.strftime(\"%W\")\n",
    "\n",
    "# Day number of year 001-366\n",
    "def strftime_dayNumber(date):\n",
    "    return date.strftime(\"%j\")\n",
    "\n",
    "#Weekday as a number 0-6, 0 is Sunday\n",
    "def strftime_weekdayNumber(date):\n",
    "    return date.strftime(\"%w\")\n",
    "\n",
    "# Weekday, full version\n",
    "def strftime_weekdayName(date):\n",
    "    return date.strftime(\"%A\")\n",
    "\n",
    "# shortcut for strftime a dataframe\n",
    "def strftime_all(df):\n",
    "    df_dt = df.copy()\n",
    "    df_dt['year'] = df['date'].apply(strftime_year)\n",
    "    df_dt['month_number'] = df_dt['date'].apply(strftime_monthNumber)\n",
    "    df_dt['week_number'] = df_dt['date'].apply(strftime_weekNumber)\n",
    "    df_dt['day_number'] = df_dt['date'].apply(strftime_dayNumber)\n",
    "    df_dt['weekday_number'] = df_dt['date'].apply(strftime_weekdayNumber)\n",
    "    df_dt['weekday_name'] = df_dt['date'].apply(strftime_weekdayName)\n",
    "    return df_dt"
   ]
  },
  {
   "cell_type": "code",
   "execution_count": 10,
   "metadata": {},
   "outputs": [
    {
     "data": {
      "text/html": [
       "<div>\n",
       "<style scoped>\n",
       "    .dataframe tbody tr th:only-of-type {\n",
       "        vertical-align: middle;\n",
       "    }\n",
       "\n",
       "    .dataframe tbody tr th {\n",
       "        vertical-align: top;\n",
       "    }\n",
       "\n",
       "    .dataframe thead th {\n",
       "        text-align: right;\n",
       "    }\n",
       "</style>\n",
       "<table border=\"1\" class=\"dataframe\">\n",
       "  <thead>\n",
       "    <tr style=\"text-align: right;\">\n",
       "      <th></th>\n",
       "      <th>date</th>\n",
       "      <th>cases_new</th>\n",
       "      <th>cases_new_norm</th>\n",
       "      <th>cases_new_norm_ma5_shift0</th>\n",
       "      <th>cases_new_norm_ma7_shift0</th>\n",
       "      <th>cases_new_norm_ma7_shift-1</th>\n",
       "      <th>rtk-ag</th>\n",
       "      <th>pcr</th>\n",
       "      <th>rtk-ag_norm</th>\n",
       "      <th>rtk-ag_norm_ma7_shift0</th>\n",
       "      <th>...</th>\n",
       "      <th>deaths_new_norm</th>\n",
       "      <th>deaths_new_norm_ma7_shift0</th>\n",
       "      <th>cumul_partial</th>\n",
       "      <th>cumul_full</th>\n",
       "      <th>year</th>\n",
       "      <th>month_number</th>\n",
       "      <th>week_number</th>\n",
       "      <th>day_number</th>\n",
       "      <th>weekday_number</th>\n",
       "      <th>weekday_name</th>\n",
       "    </tr>\n",
       "  </thead>\n",
       "  <tbody>\n",
       "    <tr>\n",
       "      <th>0</th>\n",
       "      <td>2020-01-25</td>\n",
       "      <td>4</td>\n",
       "      <td>0.000163</td>\n",
       "      <td>NaN</td>\n",
       "      <td>NaN</td>\n",
       "      <td>NaN</td>\n",
       "      <td>0.0</td>\n",
       "      <td>5.0</td>\n",
       "      <td>0.000000</td>\n",
       "      <td>NaN</td>\n",
       "      <td>...</td>\n",
       "      <td>NaN</td>\n",
       "      <td>NaN</td>\n",
       "      <td>NaN</td>\n",
       "      <td>NaN</td>\n",
       "      <td>2020</td>\n",
       "      <td>01</td>\n",
       "      <td>03</td>\n",
       "      <td>025</td>\n",
       "      <td>6</td>\n",
       "      <td>Saturday</td>\n",
       "    </tr>\n",
       "    <tr>\n",
       "      <th>1</th>\n",
       "      <td>2020-01-26</td>\n",
       "      <td>0</td>\n",
       "      <td>0.000000</td>\n",
       "      <td>NaN</td>\n",
       "      <td>NaN</td>\n",
       "      <td>NaN</td>\n",
       "      <td>0.0</td>\n",
       "      <td>14.0</td>\n",
       "      <td>0.000000</td>\n",
       "      <td>NaN</td>\n",
       "      <td>...</td>\n",
       "      <td>NaN</td>\n",
       "      <td>NaN</td>\n",
       "      <td>NaN</td>\n",
       "      <td>NaN</td>\n",
       "      <td>2020</td>\n",
       "      <td>01</td>\n",
       "      <td>03</td>\n",
       "      <td>026</td>\n",
       "      <td>0</td>\n",
       "      <td>Sunday</td>\n",
       "    </tr>\n",
       "    <tr>\n",
       "      <th>2</th>\n",
       "      <td>2020-01-27</td>\n",
       "      <td>0</td>\n",
       "      <td>0.000000</td>\n",
       "      <td>NaN</td>\n",
       "      <td>NaN</td>\n",
       "      <td>NaN</td>\n",
       "      <td>0.0</td>\n",
       "      <td>24.0</td>\n",
       "      <td>0.000000</td>\n",
       "      <td>NaN</td>\n",
       "      <td>...</td>\n",
       "      <td>NaN</td>\n",
       "      <td>NaN</td>\n",
       "      <td>NaN</td>\n",
       "      <td>NaN</td>\n",
       "      <td>2020</td>\n",
       "      <td>01</td>\n",
       "      <td>04</td>\n",
       "      <td>027</td>\n",
       "      <td>1</td>\n",
       "      <td>Monday</td>\n",
       "    </tr>\n",
       "    <tr>\n",
       "      <th>3</th>\n",
       "      <td>2020-01-28</td>\n",
       "      <td>0</td>\n",
       "      <td>0.000000</td>\n",
       "      <td>NaN</td>\n",
       "      <td>NaN</td>\n",
       "      <td>NaN</td>\n",
       "      <td>0.0</td>\n",
       "      <td>53.0</td>\n",
       "      <td>0.000000</td>\n",
       "      <td>NaN</td>\n",
       "      <td>...</td>\n",
       "      <td>NaN</td>\n",
       "      <td>NaN</td>\n",
       "      <td>NaN</td>\n",
       "      <td>NaN</td>\n",
       "      <td>2020</td>\n",
       "      <td>01</td>\n",
       "      <td>04</td>\n",
       "      <td>028</td>\n",
       "      <td>2</td>\n",
       "      <td>Tuesday</td>\n",
       "    </tr>\n",
       "    <tr>\n",
       "      <th>4</th>\n",
       "      <td>2020-01-29</td>\n",
       "      <td>3</td>\n",
       "      <td>0.000122</td>\n",
       "      <td>0.000057</td>\n",
       "      <td>NaN</td>\n",
       "      <td>NaN</td>\n",
       "      <td>0.0</td>\n",
       "      <td>71.0</td>\n",
       "      <td>0.000000</td>\n",
       "      <td>NaN</td>\n",
       "      <td>...</td>\n",
       "      <td>NaN</td>\n",
       "      <td>NaN</td>\n",
       "      <td>NaN</td>\n",
       "      <td>NaN</td>\n",
       "      <td>2020</td>\n",
       "      <td>01</td>\n",
       "      <td>04</td>\n",
       "      <td>029</td>\n",
       "      <td>3</td>\n",
       "      <td>Wednesday</td>\n",
       "    </tr>\n",
       "    <tr>\n",
       "      <th>...</th>\n",
       "      <td>...</td>\n",
       "      <td>...</td>\n",
       "      <td>...</td>\n",
       "      <td>...</td>\n",
       "      <td>...</td>\n",
       "      <td>...</td>\n",
       "      <td>...</td>\n",
       "      <td>...</td>\n",
       "      <td>...</td>\n",
       "      <td>...</td>\n",
       "      <td>...</td>\n",
       "      <td>...</td>\n",
       "      <td>...</td>\n",
       "      <td>...</td>\n",
       "      <td>...</td>\n",
       "      <td>...</td>\n",
       "      <td>...</td>\n",
       "      <td>...</td>\n",
       "      <td>...</td>\n",
       "      <td>...</td>\n",
       "      <td>...</td>\n",
       "    </tr>\n",
       "    <tr>\n",
       "      <th>615</th>\n",
       "      <td>2021-10-01</td>\n",
       "      <td>11889</td>\n",
       "      <td>0.483312</td>\n",
       "      <td>0.482532</td>\n",
       "      <td>0.501484</td>\n",
       "      <td>0.484154</td>\n",
       "      <td>100825.0</td>\n",
       "      <td>37382.0</td>\n",
       "      <td>0.790010</td>\n",
       "      <td>0.729699</td>\n",
       "      <td>...</td>\n",
       "      <td>0.204392</td>\n",
       "      <td>0.368002</td>\n",
       "      <td>0.724042</td>\n",
       "      <td>0.624349</td>\n",
       "      <td>2021</td>\n",
       "      <td>10</td>\n",
       "      <td>39</td>\n",
       "      <td>274</td>\n",
       "      <td>5</td>\n",
       "      <td>Friday</td>\n",
       "    </tr>\n",
       "    <tr>\n",
       "      <th>616</th>\n",
       "      <td>2021-10-02</td>\n",
       "      <td>10915</td>\n",
       "      <td>0.443717</td>\n",
       "      <td>0.482174</td>\n",
       "      <td>0.484154</td>\n",
       "      <td>0.460704</td>\n",
       "      <td>67827.0</td>\n",
       "      <td>34369.0</td>\n",
       "      <td>0.531455</td>\n",
       "      <td>0.724302</td>\n",
       "      <td>...</td>\n",
       "      <td>0.184122</td>\n",
       "      <td>0.339286</td>\n",
       "      <td>0.726839</td>\n",
       "      <td>0.628080</td>\n",
       "      <td>2021</td>\n",
       "      <td>10</td>\n",
       "      <td>39</td>\n",
       "      <td>275</td>\n",
       "      <td>6</td>\n",
       "      <td>Saturday</td>\n",
       "    </tr>\n",
       "    <tr>\n",
       "      <th>617</th>\n",
       "      <td>2021-10-03</td>\n",
       "      <td>9066</td>\n",
       "      <td>0.368552</td>\n",
       "      <td>0.463751</td>\n",
       "      <td>0.460704</td>\n",
       "      <td>0.443955</td>\n",
       "      <td>NaN</td>\n",
       "      <td>NaN</td>\n",
       "      <td>NaN</td>\n",
       "      <td>NaN</td>\n",
       "      <td>...</td>\n",
       "      <td>0.199324</td>\n",
       "      <td>0.300676</td>\n",
       "      <td>0.729800</td>\n",
       "      <td>0.631465</td>\n",
       "      <td>2021</td>\n",
       "      <td>10</td>\n",
       "      <td>39</td>\n",
       "      <td>276</td>\n",
       "      <td>0</td>\n",
       "      <td>Sunday</td>\n",
       "    </tr>\n",
       "    <tr>\n",
       "      <th>618</th>\n",
       "      <td>2021-10-04</td>\n",
       "      <td>8075</td>\n",
       "      <td>0.328265</td>\n",
       "      <td>0.428310</td>\n",
       "      <td>0.443955</td>\n",
       "      <td>0.429350</td>\n",
       "      <td>NaN</td>\n",
       "      <td>NaN</td>\n",
       "      <td>NaN</td>\n",
       "      <td>NaN</td>\n",
       "      <td>...</td>\n",
       "      <td>0.128378</td>\n",
       "      <td>0.256757</td>\n",
       "      <td>0.733713</td>\n",
       "      <td>0.634385</td>\n",
       "      <td>2021</td>\n",
       "      <td>10</td>\n",
       "      <td>40</td>\n",
       "      <td>277</td>\n",
       "      <td>1</td>\n",
       "      <td>Monday</td>\n",
       "    </tr>\n",
       "    <tr>\n",
       "      <th>619</th>\n",
       "      <td>2021-10-05</td>\n",
       "      <td>8817</td>\n",
       "      <td>0.358429</td>\n",
       "      <td>0.396455</td>\n",
       "      <td>0.429350</td>\n",
       "      <td>NaN</td>\n",
       "      <td>NaN</td>\n",
       "      <td>NaN</td>\n",
       "      <td>NaN</td>\n",
       "      <td>NaN</td>\n",
       "      <td>...</td>\n",
       "      <td>0.197635</td>\n",
       "      <td>0.227075</td>\n",
       "      <td>0.737510</td>\n",
       "      <td>0.637505</td>\n",
       "      <td>2021</td>\n",
       "      <td>10</td>\n",
       "      <td>40</td>\n",
       "      <td>278</td>\n",
       "      <td>2</td>\n",
       "      <td>Tuesday</td>\n",
       "    </tr>\n",
       "  </tbody>\n",
       "</table>\n",
       "<p>620 rows × 23 columns</p>\n",
       "</div>"
      ],
      "text/plain": [
       "          date  cases_new  cases_new_norm  cases_new_norm_ma5_shift0  \\\n",
       "0   2020-01-25          4        0.000163                        NaN   \n",
       "1   2020-01-26          0        0.000000                        NaN   \n",
       "2   2020-01-27          0        0.000000                        NaN   \n",
       "3   2020-01-28          0        0.000000                        NaN   \n",
       "4   2020-01-29          3        0.000122                   0.000057   \n",
       "..         ...        ...             ...                        ...   \n",
       "615 2021-10-01      11889        0.483312                   0.482532   \n",
       "616 2021-10-02      10915        0.443717                   0.482174   \n",
       "617 2021-10-03       9066        0.368552                   0.463751   \n",
       "618 2021-10-04       8075        0.328265                   0.428310   \n",
       "619 2021-10-05       8817        0.358429                   0.396455   \n",
       "\n",
       "     cases_new_norm_ma7_shift0  cases_new_norm_ma7_shift-1    rtk-ag      pcr  \\\n",
       "0                          NaN                         NaN       0.0      5.0   \n",
       "1                          NaN                         NaN       0.0     14.0   \n",
       "2                          NaN                         NaN       0.0     24.0   \n",
       "3                          NaN                         NaN       0.0     53.0   \n",
       "4                          NaN                         NaN       0.0     71.0   \n",
       "..                         ...                         ...       ...      ...   \n",
       "615                   0.501484                    0.484154  100825.0  37382.0   \n",
       "616                   0.484154                    0.460704   67827.0  34369.0   \n",
       "617                   0.460704                    0.443955       NaN      NaN   \n",
       "618                   0.443955                    0.429350       NaN      NaN   \n",
       "619                   0.429350                         NaN       NaN      NaN   \n",
       "\n",
       "     rtk-ag_norm  rtk-ag_norm_ma7_shift0  ...  deaths_new_norm  \\\n",
       "0       0.000000                     NaN  ...              NaN   \n",
       "1       0.000000                     NaN  ...              NaN   \n",
       "2       0.000000                     NaN  ...              NaN   \n",
       "3       0.000000                     NaN  ...              NaN   \n",
       "4       0.000000                     NaN  ...              NaN   \n",
       "..           ...                     ...  ...              ...   \n",
       "615     0.790010                0.729699  ...         0.204392   \n",
       "616     0.531455                0.724302  ...         0.184122   \n",
       "617          NaN                     NaN  ...         0.199324   \n",
       "618          NaN                     NaN  ...         0.128378   \n",
       "619          NaN                     NaN  ...         0.197635   \n",
       "\n",
       "     deaths_new_norm_ma7_shift0  cumul_partial  cumul_full  year  \\\n",
       "0                           NaN            NaN         NaN  2020   \n",
       "1                           NaN            NaN         NaN  2020   \n",
       "2                           NaN            NaN         NaN  2020   \n",
       "3                           NaN            NaN         NaN  2020   \n",
       "4                           NaN            NaN         NaN  2020   \n",
       "..                          ...            ...         ...   ...   \n",
       "615                    0.368002       0.724042    0.624349  2021   \n",
       "616                    0.339286       0.726839    0.628080  2021   \n",
       "617                    0.300676       0.729800    0.631465  2021   \n",
       "618                    0.256757       0.733713    0.634385  2021   \n",
       "619                    0.227075       0.737510    0.637505  2021   \n",
       "\n",
       "     month_number  week_number day_number weekday_number weekday_name  \n",
       "0              01           03        025              6     Saturday  \n",
       "1              01           03        026              0       Sunday  \n",
       "2              01           04        027              1       Monday  \n",
       "3              01           04        028              2      Tuesday  \n",
       "4              01           04        029              3    Wednesday  \n",
       "..            ...          ...        ...            ...          ...  \n",
       "615            10           39        274              5       Friday  \n",
       "616            10           39        275              6     Saturday  \n",
       "617            10           39        276              0       Sunday  \n",
       "618            10           40        277              1       Monday  \n",
       "619            10           40        278              2      Tuesday  \n",
       "\n",
       "[620 rows x 23 columns]"
      ]
     },
     "execution_count": 10,
     "metadata": {},
     "output_type": "execute_result"
    }
   ],
   "source": [
    "df_merged['date'] = df_merged['date'].astype('datetime64[ns]')\n",
    "df_merged = strftime_all(df_merged)\n",
    "df_merged\n",
    "\n",
    "# only week 03 in 2020 and week 40 in 2021 is incomplete"
   ]
  },
  {
   "cell_type": "markdown",
   "metadata": {},
   "source": [
    "### Data Wrangling"
   ]
  },
  {
   "cell_type": "code",
   "execution_count": 11,
   "metadata": {},
   "outputs": [
    {
     "data": {
      "text/html": [
       "<div>\n",
       "<style scoped>\n",
       "    .dataframe tbody tr th:only-of-type {\n",
       "        vertical-align: middle;\n",
       "    }\n",
       "\n",
       "    .dataframe tbody tr th {\n",
       "        vertical-align: top;\n",
       "    }\n",
       "\n",
       "    .dataframe thead th {\n",
       "        text-align: right;\n",
       "    }\n",
       "</style>\n",
       "<table border=\"1\" class=\"dataframe\">\n",
       "  <thead>\n",
       "    <tr style=\"text-align: right;\">\n",
       "      <th></th>\n",
       "      <th>cases_new_norm</th>\n",
       "      <th>cases_new_norm_ma5_shift0</th>\n",
       "      <th>cases_new_norm_ma7_shift0</th>\n",
       "      <th>ma7_next_day</th>\n",
       "      <th>rtk-ag_norm</th>\n",
       "      <th>rtk-ag_norm_ma7_shift0</th>\n",
       "      <th>pcr_norm</th>\n",
       "      <th>pcr_norm_ma7_shift0</th>\n",
       "      <th>deaths_new_norm</th>\n",
       "      <th>deaths_new_norm_ma7_shift0</th>\n",
       "      <th>cumul_partial</th>\n",
       "      <th>cumul_full</th>\n",
       "      <th>weekday_number</th>\n",
       "    </tr>\n",
       "  </thead>\n",
       "  <tbody>\n",
       "    <tr>\n",
       "      <th>6</th>\n",
       "      <td>0.000000</td>\n",
       "      <td>0.000033</td>\n",
       "      <td>0.000046</td>\n",
       "      <td>0.000023</td>\n",
       "      <td>0.000000</td>\n",
       "      <td>0.000000</td>\n",
       "      <td>0.000498</td>\n",
       "      <td>0.000383</td>\n",
       "      <td>0.000000</td>\n",
       "      <td>0.000000</td>\n",
       "      <td>0.000000</td>\n",
       "      <td>0.000000</td>\n",
       "      <td>5</td>\n",
       "    </tr>\n",
       "    <tr>\n",
       "      <th>7</th>\n",
       "      <td>0.000000</td>\n",
       "      <td>0.000033</td>\n",
       "      <td>0.000023</td>\n",
       "      <td>0.000023</td>\n",
       "      <td>0.000000</td>\n",
       "      <td>0.000000</td>\n",
       "      <td>0.000288</td>\n",
       "      <td>0.000419</td>\n",
       "      <td>0.000000</td>\n",
       "      <td>0.000000</td>\n",
       "      <td>0.000000</td>\n",
       "      <td>0.000000</td>\n",
       "      <td>6</td>\n",
       "    </tr>\n",
       "    <tr>\n",
       "      <th>8</th>\n",
       "      <td>0.000000</td>\n",
       "      <td>0.000033</td>\n",
       "      <td>0.000023</td>\n",
       "      <td>0.000023</td>\n",
       "      <td>0.000000</td>\n",
       "      <td>0.000000</td>\n",
       "      <td>0.000709</td>\n",
       "      <td>0.000502</td>\n",
       "      <td>0.000000</td>\n",
       "      <td>0.000000</td>\n",
       "      <td>0.000000</td>\n",
       "      <td>0.000000</td>\n",
       "      <td>0</td>\n",
       "    </tr>\n",
       "    <tr>\n",
       "      <th>9</th>\n",
       "      <td>0.000000</td>\n",
       "      <td>0.000008</td>\n",
       "      <td>0.000023</td>\n",
       "      <td>0.000035</td>\n",
       "      <td>0.000000</td>\n",
       "      <td>0.000000</td>\n",
       "      <td>0.000432</td>\n",
       "      <td>0.000528</td>\n",
       "      <td>0.000000</td>\n",
       "      <td>0.000000</td>\n",
       "      <td>0.000000</td>\n",
       "      <td>0.000000</td>\n",
       "      <td>1</td>\n",
       "    </tr>\n",
       "    <tr>\n",
       "      <th>10</th>\n",
       "      <td>0.000081</td>\n",
       "      <td>0.000016</td>\n",
       "      <td>0.000035</td>\n",
       "      <td>0.000029</td>\n",
       "      <td>0.000000</td>\n",
       "      <td>0.000000</td>\n",
       "      <td>0.000543</td>\n",
       "      <td>0.000525</td>\n",
       "      <td>0.000000</td>\n",
       "      <td>0.000000</td>\n",
       "      <td>0.000000</td>\n",
       "      <td>0.000000</td>\n",
       "      <td>2</td>\n",
       "    </tr>\n",
       "    <tr>\n",
       "      <th>...</th>\n",
       "      <td>...</td>\n",
       "      <td>...</td>\n",
       "      <td>...</td>\n",
       "      <td>...</td>\n",
       "      <td>...</td>\n",
       "      <td>...</td>\n",
       "      <td>...</td>\n",
       "      <td>...</td>\n",
       "      <td>...</td>\n",
       "      <td>...</td>\n",
       "      <td>...</td>\n",
       "      <td>...</td>\n",
       "      <td>...</td>\n",
       "    </tr>\n",
       "    <tr>\n",
       "      <th>612</th>\n",
       "      <td>0.460669</td>\n",
       "      <td>0.519111</td>\n",
       "      <td>0.537722</td>\n",
       "      <td>0.522878</td>\n",
       "      <td>0.823546</td>\n",
       "      <td>0.754924</td>\n",
       "      <td>0.521514</td>\n",
       "      <td>0.482681</td>\n",
       "      <td>0.405405</td>\n",
       "      <td>0.448118</td>\n",
       "      <td>0.709733</td>\n",
       "      <td>0.610753</td>\n",
       "      <td>2</td>\n",
       "    </tr>\n",
       "    <tr>\n",
       "      <th>613</th>\n",
       "      <td>0.505468</td>\n",
       "      <td>0.501874</td>\n",
       "      <td>0.522878</td>\n",
       "      <td>0.516961</td>\n",
       "      <td>0.779424</td>\n",
       "      <td>0.723413</td>\n",
       "      <td>0.511457</td>\n",
       "      <td>0.478717</td>\n",
       "      <td>0.351351</td>\n",
       "      <td>0.380792</td>\n",
       "      <td>0.715608</td>\n",
       "      <td>0.615287</td>\n",
       "      <td>3</td>\n",
       "    </tr>\n",
       "    <tr>\n",
       "      <th>614</th>\n",
       "      <td>0.517704</td>\n",
       "      <td>0.492410</td>\n",
       "      <td>0.516961</td>\n",
       "      <td>0.501484</td>\n",
       "      <td>0.757477</td>\n",
       "      <td>0.724502</td>\n",
       "      <td>0.477124</td>\n",
       "      <td>0.471257</td>\n",
       "      <td>0.324324</td>\n",
       "      <td>0.399131</td>\n",
       "      <td>0.720847</td>\n",
       "      <td>0.620239</td>\n",
       "      <td>4</td>\n",
       "    </tr>\n",
       "    <tr>\n",
       "      <th>615</th>\n",
       "      <td>0.483312</td>\n",
       "      <td>0.482532</td>\n",
       "      <td>0.501484</td>\n",
       "      <td>0.484154</td>\n",
       "      <td>0.790010</td>\n",
       "      <td>0.729699</td>\n",
       "      <td>0.413995</td>\n",
       "      <td>0.458131</td>\n",
       "      <td>0.204392</td>\n",
       "      <td>0.368002</td>\n",
       "      <td>0.724042</td>\n",
       "      <td>0.624349</td>\n",
       "      <td>5</td>\n",
       "    </tr>\n",
       "    <tr>\n",
       "      <th>616</th>\n",
       "      <td>0.443717</td>\n",
       "      <td>0.482174</td>\n",
       "      <td>0.484154</td>\n",
       "      <td>0.460704</td>\n",
       "      <td>0.531455</td>\n",
       "      <td>0.724302</td>\n",
       "      <td>0.380625</td>\n",
       "      <td>0.448478</td>\n",
       "      <td>0.184122</td>\n",
       "      <td>0.339286</td>\n",
       "      <td>0.726839</td>\n",
       "      <td>0.628080</td>\n",
       "      <td>6</td>\n",
       "    </tr>\n",
       "  </tbody>\n",
       "</table>\n",
       "<p>611 rows × 13 columns</p>\n",
       "</div>"
      ],
      "text/plain": [
       "     cases_new_norm  cases_new_norm_ma5_shift0  cases_new_norm_ma7_shift0  \\\n",
       "6          0.000000                   0.000033                   0.000046   \n",
       "7          0.000000                   0.000033                   0.000023   \n",
       "8          0.000000                   0.000033                   0.000023   \n",
       "9          0.000000                   0.000008                   0.000023   \n",
       "10         0.000081                   0.000016                   0.000035   \n",
       "..              ...                        ...                        ...   \n",
       "612        0.460669                   0.519111                   0.537722   \n",
       "613        0.505468                   0.501874                   0.522878   \n",
       "614        0.517704                   0.492410                   0.516961   \n",
       "615        0.483312                   0.482532                   0.501484   \n",
       "616        0.443717                   0.482174                   0.484154   \n",
       "\n",
       "     ma7_next_day  rtk-ag_norm  rtk-ag_norm_ma7_shift0  pcr_norm  \\\n",
       "6        0.000023     0.000000                0.000000  0.000498   \n",
       "7        0.000023     0.000000                0.000000  0.000288   \n",
       "8        0.000023     0.000000                0.000000  0.000709   \n",
       "9        0.000035     0.000000                0.000000  0.000432   \n",
       "10       0.000029     0.000000                0.000000  0.000543   \n",
       "..            ...          ...                     ...       ...   \n",
       "612      0.522878     0.823546                0.754924  0.521514   \n",
       "613      0.516961     0.779424                0.723413  0.511457   \n",
       "614      0.501484     0.757477                0.724502  0.477124   \n",
       "615      0.484154     0.790010                0.729699  0.413995   \n",
       "616      0.460704     0.531455                0.724302  0.380625   \n",
       "\n",
       "     pcr_norm_ma7_shift0  deaths_new_norm  deaths_new_norm_ma7_shift0  \\\n",
       "6               0.000383         0.000000                    0.000000   \n",
       "7               0.000419         0.000000                    0.000000   \n",
       "8               0.000502         0.000000                    0.000000   \n",
       "9               0.000528         0.000000                    0.000000   \n",
       "10              0.000525         0.000000                    0.000000   \n",
       "..                   ...              ...                         ...   \n",
       "612             0.482681         0.405405                    0.448118   \n",
       "613             0.478717         0.351351                    0.380792   \n",
       "614             0.471257         0.324324                    0.399131   \n",
       "615             0.458131         0.204392                    0.368002   \n",
       "616             0.448478         0.184122                    0.339286   \n",
       "\n",
       "     cumul_partial  cumul_full weekday_number  \n",
       "6         0.000000    0.000000              5  \n",
       "7         0.000000    0.000000              6  \n",
       "8         0.000000    0.000000              0  \n",
       "9         0.000000    0.000000              1  \n",
       "10        0.000000    0.000000              2  \n",
       "..             ...         ...            ...  \n",
       "612       0.709733    0.610753              2  \n",
       "613       0.715608    0.615287              3  \n",
       "614       0.720847    0.620239              4  \n",
       "615       0.724042    0.624349              5  \n",
       "616       0.726839    0.628080              6  \n",
       "\n",
       "[611 rows x 13 columns]"
      ]
     },
     "execution_count": 11,
     "metadata": {},
     "output_type": "execute_result"
    }
   ],
   "source": [
    "# Clean data\n",
    "\n",
    "# drop last 3 rows because test was not recorded at that time period\n",
    "df_merged_cleaned = df_merged.drop(df_merged.tail(3).index)\n",
    "\n",
    "# drop first 6 rows because mov avg is not yet calculated \n",
    "df_merged_cleaned.drop(df_merged.head(6).index,inplace=True)\n",
    "\n",
    "# fill NaN value with 0\n",
    "df_merged_cleaned.fillna(0, inplace=True)\n",
    "\n",
    "# drop unused columns\n",
    "df_merged_cleaned.drop(['date','cases_new','rtk-ag','pcr','deaths_new','year','month_number','week_number','day_number','weekday_name'], axis=1, inplace=True)\n",
    "df_merged_cleaned.rename(columns={\"cases_new_norm_ma7_shift-1\": \"ma7_next_day\"}, inplace=True)\n",
    "\n",
    "df_merged_cleaned"
   ]
  },
  {
   "cell_type": "code",
   "execution_count": 14,
   "metadata": {},
   "outputs": [],
   "source": [
    "# Check whether all columns is being normalized\n",
    "\n",
    "# for i in range(1,12):\n",
    "#     print((df_merged_cleaned.iloc[:,i]>1).any())\n",
    "    \n",
    "# for i in range(1,12):\n",
    "#     print((df_merged_cleaned.iloc[:,i]<0).any())"
   ]
  },
  {
   "cell_type": "markdown",
   "metadata": {},
   "source": [
    "### Feature Selection"
   ]
  },
  {
   "cell_type": "code",
   "execution_count": 13,
   "metadata": {},
   "outputs": [
    {
     "name": "stderr",
     "output_type": "stream",
     "text": [
      "C:\\Users\\Asus\\anaconda3\\lib\\site-packages\\seaborn\\matrix.py:1215: UserWarning: ``square=True`` ignored in clustermap\n",
      "  warnings.warn(msg)\n"
     ]
    },
    {
     "data": {
      "text/plain": [
       "Text(0.5, 1.0, 'Malaysia')"
      ]
     },
     "execution_count": 13,
     "metadata": {},
     "output_type": "execute_result"
    },
    {
     "data": {
      "text/plain": [
       "<Figure size 576x576 with 0 Axes>"
      ]
     },
     "metadata": {},
     "output_type": "display_data"
    },
    {
     "data": {
      "image/png": "[encoded data removed]",
      "text/plain": [
       "<Figure size 720x720 with 4 Axes>"
      ]
     },
     "metadata": {
      "needs_background": "light"
     },
     "output_type": "display_data"
    }
   ],
   "source": [
    "# correlation\n",
    "corr_msia = df_merged_cleaned.corr()\n",
    "\n",
    "plt.figure(figsize=(8, 8))\n",
    "g = sns.clustermap(corr_msia, square=True,annot=True,cmap=\"YlGnBu\")\n",
    "\n",
    "# highlight specific parts\n",
    "from matplotlib.patches import Rectangle\n",
    "ax = g.ax_heatmap\n",
    "ax.add_patch(Rectangle((0, 9), 12, 1, fill=False, edgecolor='red', lw=3))\n",
    "\n",
    "plt.title('Malaysia')"
   ]
  },
  {
   "cell_type": "markdown",
   "metadata": {},
   "source": [
    "## Bining"
   ]
  },
  {
   "cell_type": "code",
   "execution_count": null,
   "metadata": {},
   "outputs": [],
   "source": [
    "sns.set_theme()"
   ]
  },
  {
   "cell_type": "code",
   "execution_count": 65,
   "metadata": {},
   "outputs": [
    {
     "data": {
      "image/png": "[encoded data removed]",
      "text/plain": [
       "<Figure size 360x360 with 1 Axes>"
      ]
     },
     "metadata": {},
     "output_type": "display_data"
    }
   ],
   "source": [
    "sns.displot(df_merged_cleaned, x='ma7_next_day')\n",
    "plt.show()"
   ]
  },
  {
   "cell_type": "code",
   "execution_count": 17,
   "metadata": {},
   "outputs": [],
   "source": [
    "# Most important configuration for binning\n",
    "bin_num = 5\n",
    "group_names = ['1','2','3','4','5']\n",
    "# group_names = ['1','2','3','4','5','6','7','8','9','10']\n",
    "df_merged_binned = df_merged_cleaned.copy()"
   ]
  },
  {
   "cell_type": "markdown",
   "metadata": {},
   "source": [
    "### Distance Bin"
   ]
  },
  {
   "cell_type": "code",
   "execution_count": 18,
   "metadata": {},
   "outputs": [
    {
     "data": {
      "text/plain": [
       "array([0.        , 0.17730337, 0.35460675, 0.53191012, 0.7092135 ,\n",
       "       0.88651687])"
      ]
     },
     "execution_count": 18,
     "metadata": {},
     "output_type": "execute_result"
    }
   ],
   "source": [
    "bins_distance = np.linspace(min(df_merged_cleaned['ma7_next_day']),\\\n",
    "                            max(df_merged_cleaned['ma7_next_day']),\\\n",
    "                            bin_num+1) # for 4 bins, you need 5 edges\n",
    "bins_distance"
   ]
  },
  {
   "cell_type": "code",
   "execution_count": 19,
   "metadata": {},
   "outputs": [],
   "source": [
    "df_merged_binned['ma7_next_day_bin_distance'] = pd.cut(df_merged_binned['ma7_next_day'], \\\n",
    "                                                    bins_distance, \\\n",
    "                                                    labels=group_names, \\\n",
    "                                                    include_lowest=True)"
   ]
  },
  {
   "cell_type": "code",
   "execution_count": 66,
   "metadata": {},
   "outputs": [
    {
     "data": {
      "text/plain": [
       "(array([466.,  62.,  17.,  21.,  45.]),\n",
       " array([0. , 0.8, 1.6, 2.4, 3.2, 4. ]),\n",
       " <BarContainer object of 5 artists>)"
      ]
     },
     "execution_count": 66,
     "metadata": {},
     "output_type": "execute_result"
    },
    {
     "data": {
      "image/png": "[encoded data removed]",
      "text/plain": [
       "<Figure size 432x288 with 1 Axes>"
      ]
     },
     "metadata": {},
     "output_type": "display_data"
    }
   ],
   "source": [
    "plt.hist(df_merged_binned['ma7_next_day_bin_distance'], bins=bin_num)"
   ]
  },
  {
   "cell_type": "markdown",
   "metadata": {},
   "source": [
    "### Frequency Bin"
   ]
  },
  {
   "cell_type": "code",
   "execution_count": 24,
   "metadata": {},
   "outputs": [],
   "source": [
    "df_merged_binned['ma7_next_day_bin_qcut'], qcutRange = pd.qcut(df_merged_binned['ma7_next_day'],\\\n",
    "                                                    q=bin_num, \\\n",
    "                                                    precision=5, \\\n",
    "                                                    labels=group_names,\\\n",
    "                                                    retbins=True) # return range"
   ]
  },
  {
   "cell_type": "code",
   "execution_count": 67,
   "metadata": {},
   "outputs": [
    {
     "name": "stdout",
     "output_type": "stream",
     "text": [
      "[0.00000000e+00 7.43351936e-04 7.03280621e-03 6.82257699e-02\n",
      " 2.27274047e-01 8.86516874e-01]\n"
     ]
    },
    {
     "data": {
      "text/plain": [
       "(array([123., 122., 122., 122., 122.]),\n",
       " array([0. , 0.8, 1.6, 2.4, 3.2, 4. ]),\n",
       " <BarContainer object of 5 artists>)"
      ]
     },
     "execution_count": 67,
     "metadata": {},
     "output_type": "execute_result"
    },
    {
     "data": {
      "image/png": "[encoded data removed]",
      "text/plain": [
       "<Figure size 432x288 with 1 Axes>"
      ]
     },
     "metadata": {},
     "output_type": "display_data"
    }
   ],
   "source": [
    "print(qcutRange)\n",
    "plt.hist(df_merged_binned['ma7_next_day_bin_qcut'], bins=bin_num)"
   ]
  },
  {
   "cell_type": "markdown",
   "metadata": {},
   "source": [
    "### [Sampling Bin](https://towardsdatascience.com/data-preprocessing-with-python-pandas-part-5-binning-c5bd5fd1b950)\n"
   ]
  },
  {
   "cell_type": "code",
   "execution_count": 26,
   "metadata": {},
   "outputs": [],
   "source": [
    "from scipy.stats import binned_statistic\n",
    "\n",
    "x_data = np.arange(0, len(df_merged_binned))\n",
    "y_data = df_merged_binned['ma7_next_day']\n",
    "x_bins,bin_edges, misc = binned_statistic(y_data,x_data, statistic=\"median\", bins=bin_num)"
   ]
  },
  {
   "cell_type": "code",
   "execution_count": 27,
   "metadata": {},
   "outputs": [],
   "source": [
    "# Thus we convert the bin edges to an IntervalIndex\n",
    "bin_intervals = pd.IntervalIndex.from_arrays(bin_edges[:-1], bin_edges[1:])"
   ]
  },
  {
   "cell_type": "code",
   "execution_count": 28,
   "metadata": {},
   "outputs": [],
   "source": [
    "def set_to_median(x, bin_intervals):\n",
    "    for interval in bin_intervals:\n",
    "        if x in interval:\n",
    "            return interval.mid"
   ]
  },
  {
   "cell_type": "code",
   "execution_count": 29,
   "metadata": {},
   "outputs": [],
   "source": [
    "df_merged_binned['ma7_next_day_sampled'] = df_merged_binned['ma7_next_day']\\\n",
    "                                            .apply(lambda x: set_to_median(x, bin_intervals))"
   ]
  },
  {
   "cell_type": "code",
   "execution_count": 68,
   "metadata": {},
   "outputs": [
    {
     "data": {
      "image/png": "[encoded data removed]",
      "text/plain": [
       "<Figure size 432x288 with 1 Axes>"
      ]
     },
     "metadata": {},
     "output_type": "display_data"
    }
   ],
   "source": [
    "plt.plot(df_merged_binned['ma7_next_day'], label='original')\n",
    "plt.plot(df_merged_binned['ma7_next_day_sampled'], color='red', label='sampled')\n",
    "plt.legend()\n",
    "plt.show()"
   ]
  },
  {
   "cell_type": "code",
   "execution_count": 31,
   "metadata": {},
   "outputs": [
    {
     "data": {
      "text/plain": [
       "array([0.08865169, 0.26595506, 0.44325844, 0.62056181, 0.79786519])"
      ]
     },
     "execution_count": 31,
     "metadata": {},
     "output_type": "execute_result"
    }
   ],
   "source": [
    "y_bins = (bin_edges[:-1]+bin_edges[1:])/2\n",
    "y_bins"
   ]
  },
  {
   "cell_type": "code",
   "execution_count": 32,
   "metadata": {},
   "outputs": [],
   "source": [
    "# plt.plot(x_data,y_data)\n",
    "# plt.xlabel(\"X\"); \n",
    "# plt.ylabel(\"Y\")\n",
    "# plt.scatter(x_bins, y_bins,  color= 'red',linewidth=5)\n",
    "# plt.title('Mean')\n",
    "# plt.show()"
   ]
  },
  {
   "cell_type": "code",
   "execution_count": 69,
   "metadata": {},
   "outputs": [
    {
     "data": {
      "image/png": "[encoded data removed]",
      "text/plain": [
       "<Figure size 432x288 with 1 Axes>"
      ]
     },
     "metadata": {},
     "output_type": "display_data"
    }
   ],
   "source": [
    "plt.plot(x_data,y_data)\n",
    "plt.xlabel(\"X\"); \n",
    "plt.ylabel(\"Y\")\n",
    "plt.scatter(x_bins, y_bins,  color= 'red',linewidth=5)\n",
    "plt.title('Median')\n",
    "plt.show()"
   ]
  },
  {
   "cell_type": "code",
   "execution_count": 34,
   "metadata": {},
   "outputs": [],
   "source": [
    "# !pip install jenkspy"
   ]
  },
  {
   "cell_type": "code",
   "execution_count": 35,
   "metadata": {},
   "outputs": [],
   "source": [
    "import jenkspy\n",
    "breaks = jenkspy.jenks_breaks(df_merged_binned['ma7_next_day'], nb_class=bin_num)"
   ]
  },
  {
   "cell_type": "code",
   "execution_count": 36,
   "metadata": {},
   "outputs": [],
   "source": [
    "df_merged_binned['ma7_next_day_bin_cut_break'] = pd.cut(df_merged_binned['ma7_next_day'],\\\n",
    "                                                         bins=breaks,\\\n",
    "                                                         labels=group_names,\\\n",
    "                                                         include_lowest=True)"
   ]
  },
  {
   "cell_type": "code",
   "execution_count": 70,
   "metadata": {},
   "outputs": [
    {
     "data": {
      "image/png": "[encoded data removed]",
      "text/plain": [
       "<Figure size 432x288 with 1 Axes>"
      ]
     },
     "metadata": {},
     "output_type": "display_data"
    }
   ],
   "source": [
    "plt.hist(df_merged_binned['ma7_next_day_bin_cut_break'], bins=bin_num)\n",
    "plt.show()"
   ]
  },
  {
   "cell_type": "code",
   "execution_count": 38,
   "metadata": {},
   "outputs": [
    {
     "data": {
      "text/html": [
       "<div>\n",
       "<style scoped>\n",
       "    .dataframe tbody tr th:only-of-type {\n",
       "        vertical-align: middle;\n",
       "    }\n",
       "\n",
       "    .dataframe tbody tr th {\n",
       "        vertical-align: top;\n",
       "    }\n",
       "\n",
       "    .dataframe thead th {\n",
       "        text-align: right;\n",
       "    }\n",
       "</style>\n",
       "<table border=\"1\" class=\"dataframe\">\n",
       "  <thead>\n",
       "    <tr style=\"text-align: right;\">\n",
       "      <th></th>\n",
       "      <th>cases_new_norm</th>\n",
       "      <th>cases_new_norm_ma5_shift0</th>\n",
       "      <th>cases_new_norm_ma7_shift0</th>\n",
       "      <th>ma7_next_day</th>\n",
       "      <th>rtk-ag_norm</th>\n",
       "      <th>rtk-ag_norm_ma7_shift0</th>\n",
       "      <th>pcr_norm</th>\n",
       "      <th>pcr_norm_ma7_shift0</th>\n",
       "      <th>deaths_new_norm</th>\n",
       "      <th>deaths_new_norm_ma7_shift0</th>\n",
       "      <th>cumul_partial</th>\n",
       "      <th>cumul_full</th>\n",
       "      <th>weekday_number</th>\n",
       "      <th>ma7_next_day_bin_distance</th>\n",
       "      <th>ma7_next_day_bin_qcut</th>\n",
       "      <th>ma7_next_day_sampled</th>\n",
       "      <th>ma7_next_day_bin_cut_break</th>\n",
       "    </tr>\n",
       "  </thead>\n",
       "  <tbody>\n",
       "    <tr>\n",
       "      <th>6</th>\n",
       "      <td>0.000000</td>\n",
       "      <td>0.000033</td>\n",
       "      <td>0.000046</td>\n",
       "      <td>0.000023</td>\n",
       "      <td>0.000000</td>\n",
       "      <td>0.000000</td>\n",
       "      <td>0.000498</td>\n",
       "      <td>0.000383</td>\n",
       "      <td>0.000000</td>\n",
       "      <td>0.000000</td>\n",
       "      <td>0.000000</td>\n",
       "      <td>0.000000</td>\n",
       "      <td>5</td>\n",
       "      <td>1</td>\n",
       "      <td>1</td>\n",
       "      <td>0.088652</td>\n",
       "      <td>1</td>\n",
       "    </tr>\n",
       "    <tr>\n",
       "      <th>7</th>\n",
       "      <td>0.000000</td>\n",
       "      <td>0.000033</td>\n",
       "      <td>0.000023</td>\n",
       "      <td>0.000023</td>\n",
       "      <td>0.000000</td>\n",
       "      <td>0.000000</td>\n",
       "      <td>0.000288</td>\n",
       "      <td>0.000419</td>\n",
       "      <td>0.000000</td>\n",
       "      <td>0.000000</td>\n",
       "      <td>0.000000</td>\n",
       "      <td>0.000000</td>\n",
       "      <td>6</td>\n",
       "      <td>1</td>\n",
       "      <td>1</td>\n",
       "      <td>0.088652</td>\n",
       "      <td>1</td>\n",
       "    </tr>\n",
       "    <tr>\n",
       "      <th>8</th>\n",
       "      <td>0.000000</td>\n",
       "      <td>0.000033</td>\n",
       "      <td>0.000023</td>\n",
       "      <td>0.000023</td>\n",
       "      <td>0.000000</td>\n",
       "      <td>0.000000</td>\n",
       "      <td>0.000709</td>\n",
       "      <td>0.000502</td>\n",
       "      <td>0.000000</td>\n",
       "      <td>0.000000</td>\n",
       "      <td>0.000000</td>\n",
       "      <td>0.000000</td>\n",
       "      <td>0</td>\n",
       "      <td>1</td>\n",
       "      <td>1</td>\n",
       "      <td>0.088652</td>\n",
       "      <td>1</td>\n",
       "    </tr>\n",
       "    <tr>\n",
       "      <th>9</th>\n",
       "      <td>0.000000</td>\n",
       "      <td>0.000008</td>\n",
       "      <td>0.000023</td>\n",
       "      <td>0.000035</td>\n",
       "      <td>0.000000</td>\n",
       "      <td>0.000000</td>\n",
       "      <td>0.000432</td>\n",
       "      <td>0.000528</td>\n",
       "      <td>0.000000</td>\n",
       "      <td>0.000000</td>\n",
       "      <td>0.000000</td>\n",
       "      <td>0.000000</td>\n",
       "      <td>1</td>\n",
       "      <td>1</td>\n",
       "      <td>1</td>\n",
       "      <td>0.088652</td>\n",
       "      <td>1</td>\n",
       "    </tr>\n",
       "    <tr>\n",
       "      <th>10</th>\n",
       "      <td>0.000081</td>\n",
       "      <td>0.000016</td>\n",
       "      <td>0.000035</td>\n",
       "      <td>0.000029</td>\n",
       "      <td>0.000000</td>\n",
       "      <td>0.000000</td>\n",
       "      <td>0.000543</td>\n",
       "      <td>0.000525</td>\n",
       "      <td>0.000000</td>\n",
       "      <td>0.000000</td>\n",
       "      <td>0.000000</td>\n",
       "      <td>0.000000</td>\n",
       "      <td>2</td>\n",
       "      <td>1</td>\n",
       "      <td>1</td>\n",
       "      <td>0.088652</td>\n",
       "      <td>1</td>\n",
       "    </tr>\n",
       "    <tr>\n",
       "      <th>...</th>\n",
       "      <td>...</td>\n",
       "      <td>...</td>\n",
       "      <td>...</td>\n",
       "      <td>...</td>\n",
       "      <td>...</td>\n",
       "      <td>...</td>\n",
       "      <td>...</td>\n",
       "      <td>...</td>\n",
       "      <td>...</td>\n",
       "      <td>...</td>\n",
       "      <td>...</td>\n",
       "      <td>...</td>\n",
       "      <td>...</td>\n",
       "      <td>...</td>\n",
       "      <td>...</td>\n",
       "      <td>...</td>\n",
       "      <td>...</td>\n",
       "    </tr>\n",
       "    <tr>\n",
       "      <th>612</th>\n",
       "      <td>0.460669</td>\n",
       "      <td>0.519111</td>\n",
       "      <td>0.537722</td>\n",
       "      <td>0.522878</td>\n",
       "      <td>0.823546</td>\n",
       "      <td>0.754924</td>\n",
       "      <td>0.521514</td>\n",
       "      <td>0.482681</td>\n",
       "      <td>0.405405</td>\n",
       "      <td>0.448118</td>\n",
       "      <td>0.709733</td>\n",
       "      <td>0.610753</td>\n",
       "      <td>2</td>\n",
       "      <td>3</td>\n",
       "      <td>5</td>\n",
       "      <td>0.443258</td>\n",
       "      <td>4</td>\n",
       "    </tr>\n",
       "    <tr>\n",
       "      <th>613</th>\n",
       "      <td>0.505468</td>\n",
       "      <td>0.501874</td>\n",
       "      <td>0.522878</td>\n",
       "      <td>0.516961</td>\n",
       "      <td>0.779424</td>\n",
       "      <td>0.723413</td>\n",
       "      <td>0.511457</td>\n",
       "      <td>0.478717</td>\n",
       "      <td>0.351351</td>\n",
       "      <td>0.380792</td>\n",
       "      <td>0.715608</td>\n",
       "      <td>0.615287</td>\n",
       "      <td>3</td>\n",
       "      <td>3</td>\n",
       "      <td>5</td>\n",
       "      <td>0.443258</td>\n",
       "      <td>4</td>\n",
       "    </tr>\n",
       "    <tr>\n",
       "      <th>614</th>\n",
       "      <td>0.517704</td>\n",
       "      <td>0.492410</td>\n",
       "      <td>0.516961</td>\n",
       "      <td>0.501484</td>\n",
       "      <td>0.757477</td>\n",
       "      <td>0.724502</td>\n",
       "      <td>0.477124</td>\n",
       "      <td>0.471257</td>\n",
       "      <td>0.324324</td>\n",
       "      <td>0.399131</td>\n",
       "      <td>0.720847</td>\n",
       "      <td>0.620239</td>\n",
       "      <td>4</td>\n",
       "      <td>3</td>\n",
       "      <td>5</td>\n",
       "      <td>0.443258</td>\n",
       "      <td>4</td>\n",
       "    </tr>\n",
       "    <tr>\n",
       "      <th>615</th>\n",
       "      <td>0.483312</td>\n",
       "      <td>0.482532</td>\n",
       "      <td>0.501484</td>\n",
       "      <td>0.484154</td>\n",
       "      <td>0.790010</td>\n",
       "      <td>0.729699</td>\n",
       "      <td>0.413995</td>\n",
       "      <td>0.458131</td>\n",
       "      <td>0.204392</td>\n",
       "      <td>0.368002</td>\n",
       "      <td>0.724042</td>\n",
       "      <td>0.624349</td>\n",
       "      <td>5</td>\n",
       "      <td>3</td>\n",
       "      <td>5</td>\n",
       "      <td>0.443258</td>\n",
       "      <td>4</td>\n",
       "    </tr>\n",
       "    <tr>\n",
       "      <th>616</th>\n",
       "      <td>0.443717</td>\n",
       "      <td>0.482174</td>\n",
       "      <td>0.484154</td>\n",
       "      <td>0.460704</td>\n",
       "      <td>0.531455</td>\n",
       "      <td>0.724302</td>\n",
       "      <td>0.380625</td>\n",
       "      <td>0.448478</td>\n",
       "      <td>0.184122</td>\n",
       "      <td>0.339286</td>\n",
       "      <td>0.726839</td>\n",
       "      <td>0.628080</td>\n",
       "      <td>6</td>\n",
       "      <td>3</td>\n",
       "      <td>5</td>\n",
       "      <td>0.443258</td>\n",
       "      <td>4</td>\n",
       "    </tr>\n",
       "  </tbody>\n",
       "</table>\n",
       "<p>611 rows × 17 columns</p>\n",
       "</div>"
      ],
      "text/plain": [
       "     cases_new_norm  cases_new_norm_ma5_shift0  cases_new_norm_ma7_shift0  \\\n",
       "6          0.000000                   0.000033                   0.000046   \n",
       "7          0.000000                   0.000033                   0.000023   \n",
       "8          0.000000                   0.000033                   0.000023   \n",
       "9          0.000000                   0.000008                   0.000023   \n",
       "10         0.000081                   0.000016                   0.000035   \n",
       "..              ...                        ...                        ...   \n",
       "612        0.460669                   0.519111                   0.537722   \n",
       "613        0.505468                   0.501874                   0.522878   \n",
       "614        0.517704                   0.492410                   0.516961   \n",
       "615        0.483312                   0.482532                   0.501484   \n",
       "616        0.443717                   0.482174                   0.484154   \n",
       "\n",
       "     ma7_next_day  rtk-ag_norm  rtk-ag_norm_ma7_shift0  pcr_norm  \\\n",
       "6        0.000023     0.000000                0.000000  0.000498   \n",
       "7        0.000023     0.000000                0.000000  0.000288   \n",
       "8        0.000023     0.000000                0.000000  0.000709   \n",
       "9        0.000035     0.000000                0.000000  0.000432   \n",
       "10       0.000029     0.000000                0.000000  0.000543   \n",
       "..            ...          ...                     ...       ...   \n",
       "612      0.522878     0.823546                0.754924  0.521514   \n",
       "613      0.516961     0.779424                0.723413  0.511457   \n",
       "614      0.501484     0.757477                0.724502  0.477124   \n",
       "615      0.484154     0.790010                0.729699  0.413995   \n",
       "616      0.460704     0.531455                0.724302  0.380625   \n",
       "\n",
       "     pcr_norm_ma7_shift0  deaths_new_norm  deaths_new_norm_ma7_shift0  \\\n",
       "6               0.000383         0.000000                    0.000000   \n",
       "7               0.000419         0.000000                    0.000000   \n",
       "8               0.000502         0.000000                    0.000000   \n",
       "9               0.000528         0.000000                    0.000000   \n",
       "10              0.000525         0.000000                    0.000000   \n",
       "..                   ...              ...                         ...   \n",
       "612             0.482681         0.405405                    0.448118   \n",
       "613             0.478717         0.351351                    0.380792   \n",
       "614             0.471257         0.324324                    0.399131   \n",
       "615             0.458131         0.204392                    0.368002   \n",
       "616             0.448478         0.184122                    0.339286   \n",
       "\n",
       "     cumul_partial  cumul_full weekday_number ma7_next_day_bin_distance  \\\n",
       "6         0.000000    0.000000              5                         1   \n",
       "7         0.000000    0.000000              6                         1   \n",
       "8         0.000000    0.000000              0                         1   \n",
       "9         0.000000    0.000000              1                         1   \n",
       "10        0.000000    0.000000              2                         1   \n",
       "..             ...         ...            ...                       ...   \n",
       "612       0.709733    0.610753              2                         3   \n",
       "613       0.715608    0.615287              3                         3   \n",
       "614       0.720847    0.620239              4                         3   \n",
       "615       0.724042    0.624349              5                         3   \n",
       "616       0.726839    0.628080              6                         3   \n",
       "\n",
       "    ma7_next_day_bin_qcut  ma7_next_day_sampled ma7_next_day_bin_cut_break  \n",
       "6                       1              0.088652                          1  \n",
       "7                       1              0.088652                          1  \n",
       "8                       1              0.088652                          1  \n",
       "9                       1              0.088652                          1  \n",
       "10                      1              0.088652                          1  \n",
       "..                    ...                   ...                        ...  \n",
       "612                     5              0.443258                          4  \n",
       "613                     5              0.443258                          4  \n",
       "614                     5              0.443258                          4  \n",
       "615                     5              0.443258                          4  \n",
       "616                     5              0.443258                          4  \n",
       "\n",
       "[611 rows x 17 columns]"
      ]
     },
     "execution_count": 38,
     "metadata": {},
     "output_type": "execute_result"
    }
   ],
   "source": [
    "df_merged_binned"
   ]
  },
  {
   "cell_type": "code",
   "execution_count": null,
   "metadata": {},
   "outputs": [],
   "source": []
  },
  {
   "cell_type": "markdown",
   "metadata": {},
   "source": [
    "### Data Mining"
   ]
  },
  {
   "cell_type": "code",
   "execution_count": 39,
   "metadata": {},
   "outputs": [],
   "source": [
    "from sklearn.model_selection import train_test_split\n",
    "from sklearn.datasets import make_regression\n",
    "from sklearn.metrics import r2_score, mean_absolute_error, mean_squared_error\n",
    "from sklearn.metrics import confusion_matrix, ConfusionMatrixDisplay\n",
    "from sklearn.metrics import accuracy_score, precision_score, recall_score, f1_score\n",
    "from sklearn.metrics import roc_curve, roc_auc_score, auc\n",
    "\n",
    "from sklearn.linear_model import LinearRegression\n",
    "from sklearn.tree import DecisionTreeRegressor\n",
    "from sklearn.ensemble import RandomForestRegressor\n",
    "from sklearn.svm import SVR\n",
    "\n",
    "from sklearn.neighbors import KNeighborsClassifier\n",
    "from sklearn.naive_bayes import GaussianNB\n",
    "from sklearn.tree import DecisionTreeClassifier\n",
    "from sklearn.ensemble import RandomForestClassifier\n",
    "from sklearn.svm import SVC"
   ]
  },
  {
   "cell_type": "code",
   "execution_count": 105,
   "metadata": {},
   "outputs": [],
   "source": [
    "df_predict = df_merged_binned.copy()\n",
    "\n",
    "# y = df_predict[['ma7_next_day_bin_cut_break']]\n",
    "y = df_predict[['ma7_next_day_bin_qcut']]\n",
    "\n",
    "\n",
    "X = df_predict.loc[:, df_predict.columns.difference(['ma7_next_day',\\\n",
    "                                                     'ma7_next_day_bin_qcut',\\\n",
    "                                                     'ma7_next_day_bin_cut_break',\\\n",
    "                                                     'ma7_next_day_sampled',\n",
    "                                                     'ma7_next_day_bin_distance',\n",
    "                                                     'ma7_next_day_bin_qcut',\n",
    "                                                     'weekday_number'])]                            "
   ]
  },
  {
   "cell_type": "code",
   "execution_count": 106,
   "metadata": {},
   "outputs": [],
   "source": [
    "X_train, X_test, y_train, y_test = train_test_split(X, y, test_size=0.2, random_state=0)"
   ]
  },
  {
   "cell_type": "code",
   "execution_count": 107,
   "metadata": {},
   "outputs": [
    {
     "data": {
      "text/html": [
       "<div>\n",
       "<style scoped>\n",
       "    .dataframe tbody tr th:only-of-type {\n",
       "        vertical-align: middle;\n",
       "    }\n",
       "\n",
       "    .dataframe tbody tr th {\n",
       "        vertical-align: top;\n",
       "    }\n",
       "\n",
       "    .dataframe thead th {\n",
       "        text-align: right;\n",
       "    }\n",
       "</style>\n",
       "<table border=\"1\" class=\"dataframe\">\n",
       "  <thead>\n",
       "    <tr style=\"text-align: right;\">\n",
       "      <th></th>\n",
       "      <th>cases_new_norm</th>\n",
       "      <th>cases_new_norm_ma5_shift0</th>\n",
       "      <th>cases_new_norm_ma7_shift0</th>\n",
       "      <th>cumul_full</th>\n",
       "      <th>cumul_partial</th>\n",
       "      <th>deaths_new_norm</th>\n",
       "      <th>deaths_new_norm_ma7_shift0</th>\n",
       "      <th>pcr_norm</th>\n",
       "      <th>pcr_norm_ma7_shift0</th>\n",
       "      <th>rtk-ag_norm</th>\n",
       "      <th>rtk-ag_norm_ma7_shift0</th>\n",
       "    </tr>\n",
       "  </thead>\n",
       "  <tbody>\n",
       "    <tr>\n",
       "      <th>96</th>\n",
       "      <td>0.002317</td>\n",
       "      <td>0.002114</td>\n",
       "      <td>0.002317</td>\n",
       "      <td>0.000000</td>\n",
       "      <td>0.000000</td>\n",
       "      <td>0.003378</td>\n",
       "      <td>0.001931</td>\n",
       "      <td>0.133347</td>\n",
       "      <td>0.143011</td>\n",
       "      <td>0.000000</td>\n",
       "      <td>0.000000</td>\n",
       "    </tr>\n",
       "    <tr>\n",
       "      <th>536</th>\n",
       "      <td>0.472296</td>\n",
       "      <td>0.404317</td>\n",
       "      <td>0.393611</td>\n",
       "      <td>0.124771</td>\n",
       "      <td>0.272402</td>\n",
       "      <td>0.199324</td>\n",
       "      <td>0.177365</td>\n",
       "      <td>0.776013</td>\n",
       "      <td>0.676449</td>\n",
       "      <td>0.560823</td>\n",
       "      <td>0.436532</td>\n",
       "    </tr>\n",
       "    <tr>\n",
       "      <th>455</th>\n",
       "      <td>0.110452</td>\n",
       "      <td>0.106671</td>\n",
       "      <td>0.101009</td>\n",
       "      <td>0.015417</td>\n",
       "      <td>0.024398</td>\n",
       "      <td>0.018581</td>\n",
       "      <td>0.013514</td>\n",
       "      <td>0.542291</td>\n",
       "      <td>0.515305</td>\n",
       "      <td>0.183397</td>\n",
       "      <td>0.214941</td>\n",
       "    </tr>\n",
       "    <tr>\n",
       "      <th>206</th>\n",
       "      <td>0.000285</td>\n",
       "      <td>0.000732</td>\n",
       "      <td>0.000674</td>\n",
       "      <td>0.000000</td>\n",
       "      <td>0.000000</td>\n",
       "      <td>0.000000</td>\n",
       "      <td>0.000000</td>\n",
       "      <td>0.058190</td>\n",
       "      <td>0.053185</td>\n",
       "      <td>0.019745</td>\n",
       "      <td>0.016322</td>\n",
       "    </tr>\n",
       "    <tr>\n",
       "      <th>270</th>\n",
       "      <td>0.029757</td>\n",
       "      <td>0.034140</td>\n",
       "      <td>0.031459</td>\n",
       "      <td>0.000000</td>\n",
       "      <td>0.000000</td>\n",
       "      <td>0.011824</td>\n",
       "      <td>0.008205</td>\n",
       "      <td>0.154644</td>\n",
       "      <td>0.193009</td>\n",
       "      <td>0.041434</td>\n",
       "      <td>0.035555</td>\n",
       "    </tr>\n",
       "    <tr>\n",
       "      <th>...</th>\n",
       "      <td>...</td>\n",
       "      <td>...</td>\n",
       "      <td>...</td>\n",
       "      <td>...</td>\n",
       "      <td>...</td>\n",
       "      <td>...</td>\n",
       "      <td>...</td>\n",
       "      <td>...</td>\n",
       "      <td>...</td>\n",
       "      <td>...</td>\n",
       "      <td>...</td>\n",
       "    </tr>\n",
       "    <tr>\n",
       "      <th>283</th>\n",
       "      <td>0.042847</td>\n",
       "      <td>0.034985</td>\n",
       "      <td>0.033410</td>\n",
       "      <td>0.000000</td>\n",
       "      <td>0.000000</td>\n",
       "      <td>0.003378</td>\n",
       "      <td>0.006998</td>\n",
       "      <td>0.326112</td>\n",
       "      <td>0.273193</td>\n",
       "      <td>0.052451</td>\n",
       "      <td>0.041920</td>\n",
       "    </tr>\n",
       "    <tr>\n",
       "      <th>15</th>\n",
       "      <td>0.000041</td>\n",
       "      <td>0.000057</td>\n",
       "      <td>0.000052</td>\n",
       "      <td>0.000000</td>\n",
       "      <td>0.000000</td>\n",
       "      <td>0.000000</td>\n",
       "      <td>0.000000</td>\n",
       "      <td>0.001174</td>\n",
       "      <td>0.001144</td>\n",
       "      <td>0.000000</td>\n",
       "      <td>0.000000</td>\n",
       "    </tr>\n",
       "    <tr>\n",
       "      <th>365</th>\n",
       "      <td>0.136022</td>\n",
       "      <td>0.149843</td>\n",
       "      <td>0.147317</td>\n",
       "      <td>0.000000</td>\n",
       "      <td>0.000000</td>\n",
       "      <td>0.018581</td>\n",
       "      <td>0.018581</td>\n",
       "      <td>0.450898</td>\n",
       "      <td>0.575734</td>\n",
       "      <td>0.206253</td>\n",
       "      <td>0.285964</td>\n",
       "    </tr>\n",
       "    <tr>\n",
       "      <th>198</th>\n",
       "      <td>0.000447</td>\n",
       "      <td>0.000577</td>\n",
       "      <td>0.000540</td>\n",
       "      <td>0.000000</td>\n",
       "      <td>0.000000</td>\n",
       "      <td>0.000000</td>\n",
       "      <td>0.000000</td>\n",
       "      <td>0.049363</td>\n",
       "      <td>0.056248</td>\n",
       "      <td>0.017653</td>\n",
       "      <td>0.016135</td>\n",
       "    </tr>\n",
       "    <tr>\n",
       "      <th>565</th>\n",
       "      <td>0.880849</td>\n",
       "      <td>0.799732</td>\n",
       "      <td>0.804382</td>\n",
       "      <td>0.304666</td>\n",
       "      <td>0.512867</td>\n",
       "      <td>0.537162</td>\n",
       "      <td>0.403475</td>\n",
       "      <td>0.972168</td>\n",
       "      <td>0.815109</td>\n",
       "      <td>0.732286</td>\n",
       "      <td>0.627155</td>\n",
       "    </tr>\n",
       "  </tbody>\n",
       "</table>\n",
       "<p>488 rows × 11 columns</p>\n",
       "</div>"
      ],
      "text/plain": [
       "     cases_new_norm  cases_new_norm_ma5_shift0  cases_new_norm_ma7_shift0  \\\n",
       "96         0.002317                   0.002114                   0.002317   \n",
       "536        0.472296                   0.404317                   0.393611   \n",
       "455        0.110452                   0.106671                   0.101009   \n",
       "206        0.000285                   0.000732                   0.000674   \n",
       "270        0.029757                   0.034140                   0.031459   \n",
       "..              ...                        ...                        ...   \n",
       "283        0.042847                   0.034985                   0.033410   \n",
       "15         0.000041                   0.000057                   0.000052   \n",
       "365        0.136022                   0.149843                   0.147317   \n",
       "198        0.000447                   0.000577                   0.000540   \n",
       "565        0.880849                   0.799732                   0.804382   \n",
       "\n",
       "     cumul_full  cumul_partial  deaths_new_norm  deaths_new_norm_ma7_shift0  \\\n",
       "96     0.000000       0.000000         0.003378                    0.001931   \n",
       "536    0.124771       0.272402         0.199324                    0.177365   \n",
       "455    0.015417       0.024398         0.018581                    0.013514   \n",
       "206    0.000000       0.000000         0.000000                    0.000000   \n",
       "270    0.000000       0.000000         0.011824                    0.008205   \n",
       "..          ...            ...              ...                         ...   \n",
       "283    0.000000       0.000000         0.003378                    0.006998   \n",
       "15     0.000000       0.000000         0.000000                    0.000000   \n",
       "365    0.000000       0.000000         0.018581                    0.018581   \n",
       "198    0.000000       0.000000         0.000000                    0.000000   \n",
       "565    0.304666       0.512867         0.537162                    0.403475   \n",
       "\n",
       "     pcr_norm  pcr_norm_ma7_shift0  rtk-ag_norm  rtk-ag_norm_ma7_shift0  \n",
       "96   0.133347             0.143011     0.000000                0.000000  \n",
       "536  0.776013             0.676449     0.560823                0.436532  \n",
       "455  0.542291             0.515305     0.183397                0.214941  \n",
       "206  0.058190             0.053185     0.019745                0.016322  \n",
       "270  0.154644             0.193009     0.041434                0.035555  \n",
       "..        ...                  ...          ...                     ...  \n",
       "283  0.326112             0.273193     0.052451                0.041920  \n",
       "15   0.001174             0.001144     0.000000                0.000000  \n",
       "365  0.450898             0.575734     0.206253                0.285964  \n",
       "198  0.049363             0.056248     0.017653                0.016135  \n",
       "565  0.972168             0.815109     0.732286                0.627155  \n",
       "\n",
       "[488 rows x 11 columns]"
      ]
     },
     "execution_count": 107,
     "metadata": {},
     "output_type": "execute_result"
    }
   ],
   "source": [
    "X_train"
   ]
  },
  {
   "cell_type": "code",
   "execution_count": 108,
   "metadata": {},
   "outputs": [],
   "source": [
    "# !pip install shap"
   ]
  },
  {
   "cell_type": "code",
   "execution_count": 109,
   "metadata": {},
   "outputs": [],
   "source": [
    "import math\n",
    "import shap\n",
    "\n",
    "# checking feature importance using Decision Tree and Random Forest\n",
    "def feature_importance(X, y):\n",
    "    \n",
    "    # Decision Tree\n",
    "    model = DecisionTreeRegressor(criterion='mse', splitter='random')\n",
    "    model.fit(X, y)\n",
    "    importance = model.feature_importances_\n",
    "    \n",
    "    print(f'Decision Tree Regression Feature Importance\\n')\n",
    "    for i, col in enumerate(X.columns):\n",
    "        print(col, importance[i])\n",
    "\n",
    "    explainer = shap.TreeExplainer(model)\n",
    "    shap_values = explainer.shap_values(X)\n",
    "    shap.summary_plot(shap_values, X)\n",
    "    shap.summary_plot(shap_values, X, plot_type=\"bar\")\n",
    "    \n",
    "    \n",
    "    # Random Forest\n",
    "    model = RandomForestRegressor(max_depth=7, random_state=0)\n",
    "    model.fit(X, np.ravel(y))\n",
    "    importance = model.feature_importances_\n",
    "\n",
    "    print(f'Random Forest Regression Feature Importance\\n')\n",
    "    for i, col in enumerate(X.columns):\n",
    "        print(col, importance[i])\n",
    "\n",
    "    explainer = shap.TreeExplainer(model)\n",
    "    shap_values = explainer.shap_values(X)\n",
    "    shap.summary_plot(shap_values, X)\n",
    "    shap.summary_plot(shap_values, X, plot_type='bar')"
   ]
  },
  {
   "cell_type": "code",
   "execution_count": 110,
   "metadata": {},
   "outputs": [
    {
     "name": "stdout",
     "output_type": "stream",
     "text": [
      "Decision Tree Regression Feature Importance\n",
      "\n",
      "cases_new_norm 0.010156081161573363\n",
      "cases_new_norm_ma5_shift0 0.07662837923943036\n",
      "cases_new_norm_ma7_shift0 0.049325950098839354\n",
      "cumul_full 0.4394484313954433\n",
      "cumul_partial 0.0\n",
      "deaths_new_norm 0.0015262172883627999\n",
      "deaths_new_norm_ma7_shift0 0.00577788624606842\n",
      "pcr_norm 0.0014741871535322647\n",
      "pcr_norm_ma7_shift0 0.09986845408888073\n",
      "rtk-ag_norm 0.30811552928320335\n",
      "rtk-ag_norm_ma7_shift0 0.007678884044665937\n"
     ]
    },
    {
     "data": {
      "image/png": "[encoded data removed]",
      "text/plain": [
       "<Figure size 576x424.8 with 2 Axes>"
      ]
     },
     "metadata": {},
     "output_type": "display_data"
    },
    {
     "data": {
      "image/png": "[encoded data removed]",
      "text/plain": [
       "<Figure size 576x424.8 with 1 Axes>"
      ]
     },
     "metadata": {},
     "output_type": "display_data"
    },
    {
     "name": "stdout",
     "output_type": "stream",
     "text": [
      "Random Forest Regression Feature Importance\n",
      "\n",
      "cases_new_norm 0.1041029621766123\n",
      "cases_new_norm_ma5_shift0 0.4750466255934858\n",
      "cases_new_norm_ma7_shift0 0.30425261165481077\n",
      "cumul_full 0.0001178228532847983\n",
      "cumul_partial 0.00012054372391627718\n",
      "deaths_new_norm 0.00020587567215438172\n",
      "deaths_new_norm_ma7_shift0 0.00033603139876229015\n",
      "pcr_norm 0.0003471784807689928\n",
      "pcr_norm_ma7_shift0 0.0037963708342590875\n",
      "rtk-ag_norm 0.007780133372256789\n",
      "rtk-ag_norm_ma7_shift0 0.10389384423968852\n"
     ]
    },
    {
     "data": {
      "image/png": "[encoded data removed]",
      "text/plain": [
       "<Figure size 576x424.8 with 2 Axes>"
      ]
     },
     "metadata": {},
     "output_type": "display_data"
    },
    {
     "data": {
      "image/png": "[encoded data removed]",
      "text/plain": [
       "<Figure size 576x424.8 with 1 Axes>"
      ]
     },
     "metadata": {},
     "output_type": "display_data"
    }
   ],
   "source": [
    "feature_importance(X_train, y_train)"
   ]
  },
  {
   "cell_type": "markdown",
   "metadata": {},
   "source": [
    "#### Regression Models\n",
    "\n",
    "Regression models that will be used:\n",
    "1. Linear Regression\n",
    "2. Decision Tree Regressor\n",
    "3. Random Forest Regressor\n",
    "4. Support Vector Regressor\n",
    "\n",
    "Evaluation matrics that will be used:\n",
    "1. R Square\n",
    "2. Mean Absolute Error(MAE)\n",
    "3. Root Mean Square Error(RMSE)"
   ]
  },
  {
   "cell_type": "code",
   "execution_count": 111,
   "metadata": {},
   "outputs": [],
   "source": [
    "reg_l = LinearRegression()\n",
    "\n",
    "reg_l = reg_l.fit(X_train, np.ravel(y_train))\n",
    "\n",
    "y_pred = reg_l.predict(X_test)"
   ]
  },
  {
   "cell_type": "code",
   "execution_count": 113,
   "metadata": {},
   "outputs": [
    {
     "name": "stdout",
     "output_type": "stream",
     "text": [
      "R Square                    : 0.89606\n",
      "Mean Absolute Error(MAE)    : 0.40600\n",
      "Root Mean Square Error(RMSE): 0.47124\n"
     ]
    },
    {
     "name": "stderr",
     "output_type": "stream",
     "text": [
      "Arrays of bytes/strings is being converted to decimal numbers if dtype='numeric'. This behavior is deprecated in 0.24 and will be removed in 1.1 (renaming of 0.26). Please convert your data to numeric values explicitly instead.\n",
      "Arrays of bytes/strings is being converted to decimal numbers if dtype='numeric'. This behavior is deprecated in 0.24 and will be removed in 1.1 (renaming of 0.26). Please convert your data to numeric values explicitly instead.\n",
      "Arrays of bytes/strings is being converted to decimal numbers if dtype='numeric'. This behavior is deprecated in 0.24 and will be removed in 1.1 (renaming of 0.26). Please convert your data to numeric values explicitly instead.\n"
     ]
    }
   ],
   "source": [
    "print(\"R Square                    : {:.5f}\".format(r2_score(y_test, y_pred)) )\n",
    "print(\"Mean Absolute Error(MAE)    : {:.5f}\".format(mean_absolute_error(y_test, y_pred)) )\n",
    "mse = mean_squared_error(y_test, y_pred)\n",
    "print(\"Root Mean Square Error(RMSE): {:.5f}\".format(math.sqrt(mse)) )"
   ]
  },
  {
   "cell_type": "code",
   "execution_count": 114,
   "metadata": {},
   "outputs": [],
   "source": [
    "reg_dt = DecisionTreeRegressor(criterion='mse', splitter='random')\n",
    "\n",
    "reg_dt = reg_dt.fit(X_train, y_train)\n",
    "\n",
    "y_pred = reg_dt.predict(X_test)"
   ]
  },
  {
   "cell_type": "code",
   "execution_count": 115,
   "metadata": {},
   "outputs": [
    {
     "name": "stdout",
     "output_type": "stream",
     "text": [
      "R Square                    : 0.98478\n",
      "Mean Absolute Error(MAE)    : 0.03252\n",
      "Root Mean Square Error(RMSE): 0.18033\n"
     ]
    },
    {
     "name": "stderr",
     "output_type": "stream",
     "text": [
      "Arrays of bytes/strings is being converted to decimal numbers if dtype='numeric'. This behavior is deprecated in 0.24 and will be removed in 1.1 (renaming of 0.26). Please convert your data to numeric values explicitly instead.\n",
      "Arrays of bytes/strings is being converted to decimal numbers if dtype='numeric'. This behavior is deprecated in 0.24 and will be removed in 1.1 (renaming of 0.26). Please convert your data to numeric values explicitly instead.\n",
      "Arrays of bytes/strings is being converted to decimal numbers if dtype='numeric'. This behavior is deprecated in 0.24 and will be removed in 1.1 (renaming of 0.26). Please convert your data to numeric values explicitly instead.\n"
     ]
    }
   ],
   "source": [
    "print(\"R Square                    : {:.5f}\".format(r2_score(y_test, y_pred)) )\n",
    "print(\"Mean Absolute Error(MAE)    : {:.5f}\".format(mean_absolute_error(y_test, y_pred)) )\n",
    "mse = mean_squared_error(y_test, y_pred)\n",
    "print(\"Root Mean Square Error(RMSE): {:.5f}\".format(math.sqrt(mse)) )"
   ]
  },
  {
   "cell_type": "code",
   "execution_count": 116,
   "metadata": {},
   "outputs": [],
   "source": [
    "reg_rf = RandomForestRegressor(max_depth=7, random_state=0)\n",
    "\n",
    "reg_rf = reg_rf.fit(X_train, np.ravel(y_train))\n",
    "\n",
    "y_pred = reg_rf.predict(X_test)"
   ]
  },
  {
   "cell_type": "code",
   "execution_count": 117,
   "metadata": {},
   "outputs": [
    {
     "name": "stdout",
     "output_type": "stream",
     "text": [
      "R Square                    : 0.99123\n",
      "Mean Absolute Error(MAE)    : 0.03008\n",
      "Root Mean Square Error(RMSE): 0.13691\n"
     ]
    },
    {
     "name": "stderr",
     "output_type": "stream",
     "text": [
      "Arrays of bytes/strings is being converted to decimal numbers if dtype='numeric'. This behavior is deprecated in 0.24 and will be removed in 1.1 (renaming of 0.26). Please convert your data to numeric values explicitly instead.\n",
      "Arrays of bytes/strings is being converted to decimal numbers if dtype='numeric'. This behavior is deprecated in 0.24 and will be removed in 1.1 (renaming of 0.26). Please convert your data to numeric values explicitly instead.\n",
      "Arrays of bytes/strings is being converted to decimal numbers if dtype='numeric'. This behavior is deprecated in 0.24 and will be removed in 1.1 (renaming of 0.26). Please convert your data to numeric values explicitly instead.\n"
     ]
    }
   ],
   "source": [
    "print(\"R Square                    : {:.5f}\".format(r2_score(y_test, y_pred)) )\n",
    "print(\"Mean Absolute Error(MAE)    : {:.5f}\".format(mean_absolute_error(y_test, y_pred)) )\n",
    "mse = mean_squared_error(y_test, y_pred)\n",
    "print(\"Root Mean Square Error(RMSE): {:.5f}\".format(math.sqrt(mse)) )"
   ]
  },
  {
   "cell_type": "code",
   "execution_count": 118,
   "metadata": {},
   "outputs": [],
   "source": [
    "reg_sv = SVR(kernel='linear')\n",
    "\n",
    "reg_sv = reg_sv.fit(X_train, np.ravel(y_train))\n",
    "\n",
    "y_pred = reg_sv.predict(X_test)"
   ]
  },
  {
   "cell_type": "code",
   "execution_count": 119,
   "metadata": {},
   "outputs": [
    {
     "name": "stdout",
     "output_type": "stream",
     "text": [
      "R Square                    : 0.88914\n",
      "Mean Absolute Error(MAE)    : 0.40035\n",
      "Root Mean Square Error(RMSE): 0.48668\n"
     ]
    },
    {
     "name": "stderr",
     "output_type": "stream",
     "text": [
      "Arrays of bytes/strings is being converted to decimal numbers if dtype='numeric'. This behavior is deprecated in 0.24 and will be removed in 1.1 (renaming of 0.26). Please convert your data to numeric values explicitly instead.\n",
      "Arrays of bytes/strings is being converted to decimal numbers if dtype='numeric'. This behavior is deprecated in 0.24 and will be removed in 1.1 (renaming of 0.26). Please convert your data to numeric values explicitly instead.\n",
      "Arrays of bytes/strings is being converted to decimal numbers if dtype='numeric'. This behavior is deprecated in 0.24 and will be removed in 1.1 (renaming of 0.26). Please convert your data to numeric values explicitly instead.\n"
     ]
    }
   ],
   "source": [
    "print(\"R Square                    : {:.5f}\".format(r2_score(y_test, y_pred)) )\n",
    "print(\"Mean Absolute Error(MAE)    : {:.5f}\".format(mean_absolute_error(y_test, y_pred)) )\n",
    "mse = mean_squared_error(y_test, y_pred)\n",
    "print(\"Root Mean Square Error(RMSE): {:.5f}\".format(math.sqrt(mse)) )"
   ]
  },
  {
   "cell_type": "markdown",
   "metadata": {},
   "source": [
    "\n",
    "|                               | Linear Regression | Decision Tree | Random Forest | SVR       |\n",
    "| ----------------------------- | ----------------- | ------------- | ------------- | --------- |\n",
    "| R Square                      | 0.89642           | 0.98097       | 0.93570       | 0.88917   |\n",
    "| Mean Absolute Error (MAE)     | 0.40572           | 0.04065       | 0.03211       | 0.39836   |\n",
    "| Root Mean Square Error (RMSE) | 0.47043           | 0.20162       | 0.14114       | 0.48661   |\n",
    "\n"
   ]
  },
  {
   "cell_type": "markdown",
   "metadata": {},
   "source": [
    "#### Classification Models\n",
    "\n",
    "Classification models that will be used:\n",
    "1. K-Nearest Neighbors Classifier\n",
    "2. Naive Bayes Classifier\n",
    "3. Decision Tree Classifier\n",
    "4. Random Forest Classifier\n",
    "\n",
    "Performance evaluation metrics that will be used:\n",
    "1. Confusion Matrix\n",
    "2. Precision, Recall, F1-score\n",
    "3. ROC Curve"
   ]
  },
  {
   "cell_type": "code",
   "execution_count": 120,
   "metadata": {},
   "outputs": [
    {
     "name": "stdout",
     "output_type": "stream",
     "text": [
      "Accuracy on training set: 0.96721\n",
      "Accuracy on test set:     0.93496\n"
     ]
    }
   ],
   "source": [
    "clf_KNN = KNeighborsClassifier(n_neighbors=3)\n",
    "\n",
    "clf_KNN = clf_KNN.fit(X_train, np.ravel(y_train))\n",
    "\n",
    "y_pred = clf_KNN.predict(X_test)\n",
    "\n",
    "print(\"Accuracy on training set: {:.5f}\".format(clf_KNN.score(X_train, y_train)))\n",
    "print(\"Accuracy on test set:     {:.5f}\".format(clf_KNN.score(X_test, y_test))) # accuracy score"
   ]
  },
  {
   "cell_type": "code",
   "execution_count": null,
   "metadata": {},
   "outputs": [],
   "source": []
  },
  {
   "cell_type": "code",
   "execution_count": 121,
   "metadata": {},
   "outputs": [],
   "source": [
    "# save all y_pred in a dict\n",
    "model_y_pred = {}\n",
    "model_y_pred['KNN'] = y_pred"
   ]
  },
  {
   "cell_type": "code",
   "execution_count": 122,
   "metadata": {},
   "outputs": [
    {
     "name": "stdout",
     "output_type": "stream",
     "text": [
      "Accuracy on training set: 0.95492\n",
      "Accuracy on test set:     0.94309\n"
     ]
    }
   ],
   "source": [
    "clf_NB = GaussianNB()\n",
    "\n",
    "clf_NB = clf_NB.fit(X_train, np.ravel(y_train))\n",
    "\n",
    "y_pred = clf_NB.predict(X_test)\n",
    "\n",
    "print(\"Accuracy on training set: {:.5f}\".format(clf_NB.score(X_train, y_train)))\n",
    "print(\"Accuracy on test set:     {:.5f}\".format(clf_NB.score(X_test, y_test)))\n",
    "\n",
    "model_y_pred['Naive Bayes'] = y_pred"
   ]
  },
  {
   "cell_type": "code",
   "execution_count": 123,
   "metadata": {},
   "outputs": [
    {
     "name": "stdout",
     "output_type": "stream",
     "text": [
      "Accuracy on training set: 1.00000\n",
      "Accuracy on test set:     0.97561\n"
     ]
    }
   ],
   "source": [
    "clf_DT = DecisionTreeClassifier(criterion='entropy', max_depth=7, splitter='best')\n",
    "\n",
    "clf_DT = clf_DT.fit(X_train, y_train)\n",
    "\n",
    "y_pred = clf_DT.predict(X_test)\n",
    "\n",
    "print(\"Accuracy on training set: {:.5f}\".format(clf_DT.score(X_train, y_train)))\n",
    "print(\"Accuracy on test set:     {:.5f}\".format(clf_DT.score(X_test, y_test)))\n",
    "\n",
    "model_y_pred['Decision Tree'] = y_pred"
   ]
  },
  {
   "cell_type": "code",
   "execution_count": 124,
   "metadata": {},
   "outputs": [
    {
     "name": "stdout",
     "output_type": "stream",
     "text": [
      "Accuracy on training set: 1.00000\n",
      "Accuracy on test set:     0.97561\n"
     ]
    }
   ],
   "source": [
    "clf_RF = RandomForestClassifier(max_depth=10, random_state=0)\n",
    "\n",
    "clf_RF = clf_RF.fit(X_train, np.ravel(y_train))\n",
    "\n",
    "y_pred = clf_RF.predict(X_test)\n",
    "\n",
    "print(\"Accuracy on training set: {:.5f}\".format(clf_RF.score(X_train, y_train)))\n",
    "print(\"Accuracy on test set:     {:.5f}\".format(clf_RF.score(X_test, y_test)))\n",
    "\n",
    "model_y_pred['Random Forest'] = y_pred"
   ]
  },
  {
   "cell_type": "code",
   "execution_count": 125,
   "metadata": {},
   "outputs": [
    {
     "name": "stdout",
     "output_type": "stream",
     "text": [
      "Accuracy on training set: 0.82377\n",
      "Accuracy on test set:     0.75610\n"
     ]
    }
   ],
   "source": [
    "clf_SV = SVC(kernel='linear', probability=True)\n",
    "\n",
    "clf_SV = clf_SV.fit(X_train, np.ravel(y_train))\n",
    "\n",
    "y_pred = clf_SV.predict(X_test)\n",
    "\n",
    "print(\"Accuracy on training set: {:.5f}\".format(clf_SV.score(X_train, y_train)))\n",
    "print(\"Accuracy on test set:     {:.5f}\".format(clf_SV.score(X_test, y_test)))\n",
    "\n",
    "model_y_pred['SVC'] = y_pred"
   ]
  },
  {
   "cell_type": "markdown",
   "metadata": {},
   "source": [
    "|                        | KNN       | GaussianNB  | Decision Tree | Random Forest | SVC      |\n",
    "| ---------------------- | ----------| ------------| ------------- | ------------- | -------- |\n",
    "| Test Set Accuracy      | 0.94309   | 0.95122     | 0.95935       | 0.95935       | 0.78049  |"
   ]
  },
  {
   "cell_type": "code",
   "execution_count": null,
   "metadata": {},
   "outputs": [],
   "source": []
  },
  {
   "cell_type": "code",
   "execution_count": null,
   "metadata": {},
   "outputs": [],
   "source": []
  },
  {
   "cell_type": "markdown",
   "metadata": {},
   "source": [
    "#### 4.2.6 Classification Model Evaluation\n",
    "\n",
    "To evaluate the performance of each classifier, we plot the confusion matrix for each of them."
   ]
  },
  {
   "cell_type": "code",
   "execution_count": 126,
   "metadata": {},
   "outputs": [],
   "source": [
    "def get_confusion_matrix(y_pred, name=\"\"):\n",
    "    cm = confusion_matrix(y_test, y_pred)\n",
    "    \n",
    "    ax = sns.heatmap(cm,annot=True, cmap='Greens')\n",
    "    ax.set_xlabel('Predicted Label')\n",
    "    ax.set_ylabel('True Label')\n",
    "    ax.set_title(f\"{name} Confusion Matrix\")\n",
    "    \n",
    "    return ax"
   ]
  },
  {
   "cell_type": "code",
   "execution_count": 127,
   "metadata": {},
   "outputs": [
    {
     "data": {
      "image/png": "[encoded data removed]",
      "text/plain": [
       "<Figure size 1440x288 with 6 Axes>"
      ]
     },
     "metadata": {},
     "output_type": "display_data"
    },
    {
     "data": {
      "image/png": "[encoded data removed]",
      "text/plain": [
       "<Figure size 1440x288 with 5 Axes>"
      ]
     },
     "metadata": {},
     "output_type": "display_data"
    }
   ],
   "source": [
    "plt.figure(figsize=(20, 4))\n",
    "plt.subplot(1, 3, 1)\n",
    "get_confusion_matrix(model_y_pred.get(\"KNN\"), name=\"KNN\")\n",
    "\n",
    "plt.subplot(1, 3, 2)\n",
    "get_confusion_matrix(model_y_pred.get(\"Naive Bayes\"), name=\"Naive Bayes\")\n",
    "\n",
    "plt.subplot(1, 3, 3)\n",
    "get_confusion_matrix(model_y_pred.get(\"Decision Tree\"), name=\"Decision Tree\")\n",
    "plt.show()\n",
    "\n",
    "plt.figure(figsize=(20, 4))\n",
    "plt.subplot(1, 3, 1)\n",
    "get_confusion_matrix(model_y_pred.get(\"Random Forest\"), name=\"Random Forest\")\n",
    "\n",
    "plt.subplot(1, 3, 2)\n",
    "get_confusion_matrix(model_y_pred.get(\"SVC\"), name=\"SVC\")\n",
    "\n",
    "plt.subplot(1, 3, 3)\n",
    "plt.xticks([]), plt.yticks([])\n",
    "plt.axis(\"off\")\n",
    "\n",
    "plt.show()"
   ]
  },
  {
   "cell_type": "code",
   "execution_count": 128,
   "metadata": {},
   "outputs": [],
   "source": [
    "def get_classification_report(y_pred, name=\"\"):\n",
    "    # calculate precision, recall, f1 for each class\n",
    "    precision = precision_score(y_test, y_pred, average=None)\n",
    "    recall = recall_score(y_test, y_pred, average=None)\n",
    "    f1 = f1_score(y_test, y_pred, average=None)\n",
    "    \n",
    "    report = np.flipud(np.rot90([precision, recall, f1]))\n",
    "    ax = sns.heatmap(report,annot=True, cmap='RdBu', vmin=0, vmax=1)\n",
    "    ax.set_xlabel('Metrics')\n",
    "    ax.set_ylabel('Classes')\n",
    "    ax.set_xticklabels(['Precision', 'Recall', 'F1-score'])\n",
    "    ax.set_title(f\"{name} Classification Report\")\n",
    "    \n",
    "    return ax"
   ]
  },
  {
   "cell_type": "code",
   "execution_count": 129,
   "metadata": {},
   "outputs": [
    {
     "data": {
      "image/png": "[encoded data removed]",
      "text/plain": [
       "<Figure size 1440x288 with 6 Axes>"
      ]
     },
     "metadata": {},
     "output_type": "display_data"
    },
    {
     "data": {
      "image/png": "[encoded data removed]",
      "text/plain": [
       "<Figure size 1440x288 with 5 Axes>"
      ]
     },
     "metadata": {},
     "output_type": "display_data"
    }
   ],
   "source": [
    "plt.figure(figsize=(20, 4))\n",
    "plt.subplot(1, 3, 1)\n",
    "get_classification_report(model_y_pred.get(\"KNN\"), name=\"KNN\")\n",
    "\n",
    "plt.subplot(1, 3, 2)\n",
    "get_classification_report(model_y_pred.get(\"Naive Bayes\"), name=\"Naive Bayes\")\n",
    "\n",
    "plt.subplot(1, 3, 3)\n",
    "get_classification_report(model_y_pred.get(\"Decision Tree\"), name=\"Decision Tree\")\n",
    "plt.show()\n",
    "\n",
    "plt.figure(figsize=(20, 4))\n",
    "plt.subplot(1, 3, 1)\n",
    "get_classification_report(model_y_pred.get(\"Random Forest\"), name=\"Random Forest\")\n",
    "\n",
    "plt.subplot(1, 3, 2)\n",
    "get_classification_report(model_y_pred.get(\"SVC\"), name=\"SVC\")\n",
    "\n",
    "plt.subplot(1, 3, 3)\n",
    "plt.xticks([]), plt.yticks([])\n",
    "plt.axis(\"off\")\n",
    "\n",
    "plt.show()"
   ]
  },
  {
   "cell_type": "code",
   "execution_count": 130,
   "metadata": {},
   "outputs": [
    {
     "data": {
      "text/html": [
       "<div>\n",
       "<style scoped>\n",
       "    .dataframe tbody tr th:only-of-type {\n",
       "        vertical-align: middle;\n",
       "    }\n",
       "\n",
       "    .dataframe tbody tr th {\n",
       "        vertical-align: top;\n",
       "    }\n",
       "\n",
       "    .dataframe thead th {\n",
       "        text-align: right;\n",
       "    }\n",
       "</style>\n",
       "<table border=\"1\" class=\"dataframe\">\n",
       "  <thead>\n",
       "    <tr style=\"text-align: right;\">\n",
       "      <th></th>\n",
       "      <th>cases_new_norm</th>\n",
       "      <th>cases_new_norm_ma5_shift0</th>\n",
       "      <th>cases_new_norm_ma7_shift0</th>\n",
       "      <th>cumul_full</th>\n",
       "      <th>cumul_partial</th>\n",
       "      <th>deaths_new_norm</th>\n",
       "      <th>deaths_new_norm_ma7_shift0</th>\n",
       "      <th>pcr_norm</th>\n",
       "      <th>pcr_norm_ma7_shift0</th>\n",
       "      <th>rtk-ag_norm</th>\n",
       "      <th>rtk-ag_norm_ma7_shift0</th>\n",
       "    </tr>\n",
       "  </thead>\n",
       "  <tbody>\n",
       "    <tr>\n",
       "      <th>584</th>\n",
       "      <td>0.849506</td>\n",
       "      <td>0.857035</td>\n",
       "      <td>0.886517</td>\n",
       "      <td>0.463551</td>\n",
       "      <td>0.607314</td>\n",
       "      <td>0.476351</td>\n",
       "      <td>0.509411</td>\n",
       "      <td>0.743407</td>\n",
       "      <td>0.761327</td>\n",
       "      <td>0.435440</td>\n",
       "      <td>0.581362</td>\n",
       "    </tr>\n",
       "    <tr>\n",
       "      <th>58</th>\n",
       "      <td>0.008618</td>\n",
       "      <td>0.005919</td>\n",
       "      <td>0.005604</td>\n",
       "      <td>0.000000</td>\n",
       "      <td>0.000000</td>\n",
       "      <td>0.008446</td>\n",
       "      <td>0.003861</td>\n",
       "      <td>0.042330</td>\n",
       "      <td>0.038669</td>\n",
       "      <td>0.000000</td>\n",
       "      <td>0.000000</td>\n",
       "    </tr>\n",
       "    <tr>\n",
       "      <th>539</th>\n",
       "      <td>0.509289</td>\n",
       "      <td>0.495801</td>\n",
       "      <td>0.456813</td>\n",
       "      <td>0.137715</td>\n",
       "      <td>0.298702</td>\n",
       "      <td>0.233108</td>\n",
       "      <td>0.192809</td>\n",
       "      <td>0.838256</td>\n",
       "      <td>0.747390</td>\n",
       "      <td>0.467009</td>\n",
       "      <td>0.506437</td>\n",
       "    </tr>\n",
       "    <tr>\n",
       "      <th>373</th>\n",
       "      <td>0.171308</td>\n",
       "      <td>0.203740</td>\n",
       "      <td>0.187720</td>\n",
       "      <td>0.000000</td>\n",
       "      <td>0.000000</td>\n",
       "      <td>0.016892</td>\n",
       "      <td>0.019546</td>\n",
       "      <td>0.255363</td>\n",
       "      <td>0.459937</td>\n",
       "      <td>0.240870</td>\n",
       "      <td>0.249882</td>\n",
       "    </tr>\n",
       "    <tr>\n",
       "      <th>61</th>\n",
       "      <td>0.009553</td>\n",
       "      <td>0.006895</td>\n",
       "      <td>0.006568</td>\n",
       "      <td>0.000000</td>\n",
       "      <td>0.000000</td>\n",
       "      <td>0.008446</td>\n",
       "      <td>0.005792</td>\n",
       "      <td>0.042895</td>\n",
       "      <td>0.041062</td>\n",
       "      <td>0.000000</td>\n",
       "      <td>0.000000</td>\n",
       "    </tr>\n",
       "    <tr>\n",
       "      <th>...</th>\n",
       "      <td>...</td>\n",
       "      <td>...</td>\n",
       "      <td>...</td>\n",
       "      <td>...</td>\n",
       "      <td>...</td>\n",
       "      <td>...</td>\n",
       "      <td>...</td>\n",
       "      <td>...</td>\n",
       "      <td>...</td>\n",
       "      <td>...</td>\n",
       "      <td>...</td>\n",
       "    </tr>\n",
       "    <tr>\n",
       "      <th>408</th>\n",
       "      <td>0.062157</td>\n",
       "      <td>0.074060</td>\n",
       "      <td>0.072064</td>\n",
       "      <td>0.000002</td>\n",
       "      <td>0.005137</td>\n",
       "      <td>0.013514</td>\n",
       "      <td>0.010135</td>\n",
       "      <td>0.259140</td>\n",
       "      <td>0.318731</td>\n",
       "      <td>0.232368</td>\n",
       "      <td>0.228695</td>\n",
       "    </tr>\n",
       "    <tr>\n",
       "      <th>443</th>\n",
       "      <td>0.053539</td>\n",
       "      <td>0.062645</td>\n",
       "      <td>0.058911</td>\n",
       "      <td>0.012672</td>\n",
       "      <td>0.018814</td>\n",
       "      <td>0.006757</td>\n",
       "      <td>0.009170</td>\n",
       "      <td>0.319113</td>\n",
       "      <td>0.353353</td>\n",
       "      <td>0.222558</td>\n",
       "      <td>0.187536</td>\n",
       "    </tr>\n",
       "    <tr>\n",
       "      <th>442</th>\n",
       "      <td>0.070694</td>\n",
       "      <td>0.061198</td>\n",
       "      <td>0.057476</td>\n",
       "      <td>0.012246</td>\n",
       "      <td>0.018039</td>\n",
       "      <td>0.013514</td>\n",
       "      <td>0.009894</td>\n",
       "      <td>0.259051</td>\n",
       "      <td>0.345023</td>\n",
       "      <td>0.124717</td>\n",
       "      <td>0.186414</td>\n",
       "    </tr>\n",
       "    <tr>\n",
       "      <th>171</th>\n",
       "      <td>0.000163</td>\n",
       "      <td>0.000374</td>\n",
       "      <td>0.000319</td>\n",
       "      <td>0.000000</td>\n",
       "      <td>0.000000</td>\n",
       "      <td>0.000000</td>\n",
       "      <td>0.000241</td>\n",
       "      <td>0.047181</td>\n",
       "      <td>0.040751</td>\n",
       "      <td>0.014049</td>\n",
       "      <td>0.014074</td>\n",
       "    </tr>\n",
       "    <tr>\n",
       "      <th>407</th>\n",
       "      <td>0.068417</td>\n",
       "      <td>0.075816</td>\n",
       "      <td>0.073801</td>\n",
       "      <td>0.000001</td>\n",
       "      <td>0.004307</td>\n",
       "      <td>0.005068</td>\n",
       "      <td>0.009411</td>\n",
       "      <td>0.239570</td>\n",
       "      <td>0.320334</td>\n",
       "      <td>0.151718</td>\n",
       "      <td>0.236587</td>\n",
       "    </tr>\n",
       "  </tbody>\n",
       "</table>\n",
       "<p>123 rows × 11 columns</p>\n",
       "</div>"
      ],
      "text/plain": [
       "     cases_new_norm  cases_new_norm_ma5_shift0  cases_new_norm_ma7_shift0  \\\n",
       "584        0.849506                   0.857035                   0.886517   \n",
       "58         0.008618                   0.005919                   0.005604   \n",
       "539        0.509289                   0.495801                   0.456813   \n",
       "373        0.171308                   0.203740                   0.187720   \n",
       "61         0.009553                   0.006895                   0.006568   \n",
       "..              ...                        ...                        ...   \n",
       "408        0.062157                   0.074060                   0.072064   \n",
       "443        0.053539                   0.062645                   0.058911   \n",
       "442        0.070694                   0.061198                   0.057476   \n",
       "171        0.000163                   0.000374                   0.000319   \n",
       "407        0.068417                   0.075816                   0.073801   \n",
       "\n",
       "     cumul_full  cumul_partial  deaths_new_norm  deaths_new_norm_ma7_shift0  \\\n",
       "584    0.463551       0.607314         0.476351                    0.509411   \n",
       "58     0.000000       0.000000         0.008446                    0.003861   \n",
       "539    0.137715       0.298702         0.233108                    0.192809   \n",
       "373    0.000000       0.000000         0.016892                    0.019546   \n",
       "61     0.000000       0.000000         0.008446                    0.005792   \n",
       "..          ...            ...              ...                         ...   \n",
       "408    0.000002       0.005137         0.013514                    0.010135   \n",
       "443    0.012672       0.018814         0.006757                    0.009170   \n",
       "442    0.012246       0.018039         0.013514                    0.009894   \n",
       "171    0.000000       0.000000         0.000000                    0.000241   \n",
       "407    0.000001       0.004307         0.005068                    0.009411   \n",
       "\n",
       "     pcr_norm  pcr_norm_ma7_shift0  rtk-ag_norm  rtk-ag_norm_ma7_shift0  \n",
       "584  0.743407             0.761327     0.435440                0.581362  \n",
       "58   0.042330             0.038669     0.000000                0.000000  \n",
       "539  0.838256             0.747390     0.467009                0.506437  \n",
       "373  0.255363             0.459937     0.240870                0.249882  \n",
       "61   0.042895             0.041062     0.000000                0.000000  \n",
       "..        ...                  ...          ...                     ...  \n",
       "408  0.259140             0.318731     0.232368                0.228695  \n",
       "443  0.319113             0.353353     0.222558                0.187536  \n",
       "442  0.259051             0.345023     0.124717                0.186414  \n",
       "171  0.047181             0.040751     0.014049                0.014074  \n",
       "407  0.239570             0.320334     0.151718                0.236587  \n",
       "\n",
       "[123 rows x 11 columns]"
      ]
     },
     "execution_count": 130,
     "metadata": {},
     "output_type": "execute_result"
    }
   ],
   "source": [
    "X_test"
   ]
  },
  {
   "cell_type": "code",
   "execution_count": 131,
   "metadata": {},
   "outputs": [
    {
     "name": "stderr",
     "output_type": "stream",
     "text": [
      "No positive samples in y_true, true positive value should be meaningless\n",
      "No positive samples in y_true, true positive value should be meaningless\n",
      "No positive samples in y_true, true positive value should be meaningless\n",
      "No positive samples in y_true, true positive value should be meaningless\n",
      "No positive samples in y_true, true positive value should be meaningless\n"
     ]
    },
    {
     "data": {
      "text/plain": [
       "<matplotlib.legend.Legend at 0x19e741ac550>"
      ]
     },
     "execution_count": 131,
     "metadata": {},
     "output_type": "execute_result"
    },
    {
     "data": {
      "image/png": "[encoded data removed]",
      "text/plain": [
       "<Figure size 720x576 with 1 Axes>"
      ]
     },
     "metadata": {},
     "output_type": "display_data"
    }
   ],
   "source": [
    "prob_KNN = clf_KNN.predict_proba(X_test)[:,1]\n",
    "prob_NB = clf_NB.predict_proba(X_test)[:,1]\n",
    "prob_DT = clf_DT.predict_proba(X_test)[:,1]\n",
    "prob_RF = clf_RF.predict_proba(X_test)[:,1]\n",
    "prob_SV = clf_SV.predict_proba(X_test)[:,1]\n",
    "\n",
    "proba = [prob_KNN, prob_NB, prob_DT, prob_RF, prob_SV]\n",
    "color = ['orange', 'blue', 'purple', 'red', 'lime']\n",
    "label = ['KNN', 'Naive Bayes', 'Decision Tree', 'Random Forest', 'SVC']\n",
    "\n",
    "proba\n",
    "\n",
    "plt.figure(figsize=(10, 8))\n",
    "for i in range(len(proba)):\n",
    "    fpr, tpr, thresholds = roc_curve(y_test, proba[i], pos_label=1)\n",
    "    plt.plot(fpr, tpr, color=color[i], label=label[i]) \n",
    "    \n",
    "plt.plot([0, 1], [0, 1], color='green', linestyle='--')\n",
    "plt.xlabel('False Positive Rate')\n",
    "plt.ylabel('True Positive Rate')\n",
    "plt.title('Receiver Operating Characteristic (ROC) Curve')\n",
    "plt.legend()"
   ]
  },
  {
   "cell_type": "code",
   "execution_count": null,
   "metadata": {},
   "outputs": [],
   "source": []
  },
  {
   "cell_type": "code",
   "execution_count": 63,
   "metadata": {},
   "outputs": [
    {
     "data": {
      "text/plain": [
       "<matplotlib.legend.Legend at 0x19e715b5d90>"
      ]
     },
     "execution_count": 63,
     "metadata": {},
     "output_type": "execute_result"
    },
    {
     "data": {
      "image/png": "[encoded data removed]",
      "text/plain": [
       "<Figure size 1080x720 with 1 Axes>"
      ]
     },
     "metadata": {
      "needs_background": "light"
     },
     "output_type": "display_data"
    }
   ],
   "source": [
    "plt.figure(figsize=(15,10))\n",
    "plt.grid(True)\n",
    "plt.plot(df_4['cumul_partial'],label='cumul_partial')\n",
    "plt.plot(df_4['cumul_full'],label='cumul_full')\n",
    "plt.legend(loc=2)"
   ]
  },
  {
   "cell_type": "code",
   "execution_count": 64,
   "metadata": {},
   "outputs": [],
   "source": [
    "# df_1_copy[\"change\"] = np.log(df_1_copy.cases_new / df_1_copy.cases_new.shift())\n",
    "# plt.plot(df_1_copy.change)"
   ]
  },
  {
   "cell_type": "markdown",
   "metadata": {},
   "source": [
    "## Time Series and Statsmodels\n",
    "\n",
    "[Stationairty](https://www.youtube.com/watch?v=oY-j2Wof51c)\n",
    "<br>\n",
    "Stationarity determine what predictive models you could use. The data is stationary if\n",
    "<br>\n",
    "- Mean is const\n",
    "- Variance is const (less fluctuation)\n",
    "- No seasonality\n",
    "<br>\n",
    "White noise also means it is stationary, but if it's stationary it not neccessary is white noise.\n",
    "\n",
    "[statsmodels.tsa.stattools.adfuller](https://docs.w3cub.com/statsmodels/generated/statsmodels.tsa.stattools.adfuller)\n",
    "\n",
    "[Revision about test statistic, p-value and critical value](https://towardsdatascience.com/statistical-tests-when-to-use-which-704557554740#:~:text=Relationship%20between%20p%2Dvalue%2C%20critical,Z%2C%20T%20or%20chi)"
   ]
  },
  {
   "cell_type": "code",
   "execution_count": 109,
   "metadata": {},
   "outputs": [
    {
     "data": {
      "image/png": "[encoded data removed]",
      "text/plain": [
       "<Figure size 432x288 with 1 Axes>"
      ]
     },
     "metadata": {
      "needs_background": "light"
     },
     "output_type": "display_data"
    },
    {
     "name": "stdout",
     "output_type": "stream",
     "text": [
      "Reuslts of Dickey-Fuller Test:\n",
      "Test Statistic                  -2.878612\n",
      "p-value                          0.047892\n",
      "#Lags Used                      19.000000\n",
      "Number of Observations Used    600.000000\n",
      "Critical Value (1%)             -3.441296\n",
      "Critical Value (5%)             -2.866369\n",
      "Critical Value (10%)            -2.569342\n",
      "dtype: float64\n"
     ]
    }
   ],
   "source": [
    "test_stationarity(df_1[['date','cases_new']], 7)"
   ]
  },
  {
   "cell_type": "code",
   "execution_count": null,
   "metadata": {},
   "outputs": [],
   "source": [
    "from statsmodels.tsa.seasonal import seasonal_decompose\n"
   ]
  },
  {
   "cell_type": "code",
   "execution_count": null,
   "metadata": {},
   "outputs": [],
   "source": []
  }
 ],
 "metadata": {
  "kernelspec": {
   "display_name": "Python 3",
   "language": "python",
   "name": "python3"
  },
  "language_info": {
   "codemirror_mode": {
    "name": "ipython",
    "version": 3
   },
   "file_extension": ".py",
   "mimetype": "text/x-python",
   "name": "python",
   "nbconvert_exporter": "python",
   "pygments_lexer": "ipython3",
   "version": "3.8.5"
  }
 },
 "nbformat": 4,
 "nbformat_minor": 4
}
