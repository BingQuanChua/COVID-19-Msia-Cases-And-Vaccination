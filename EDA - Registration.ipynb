{
 "cells": [
  {
   "cell_type": "markdown",
   "metadata": {},
   "source": [
    "# Exploratory Data Analysis - Registration"
   ]
  },
  {
   "cell_type": "code",
   "execution_count": 1,
   "metadata": {},
   "outputs": [],
   "source": [
    "import pandas as pd\n",
    "import numpy as np\n",
    "import matplotlib.pyplot as plt\n",
    "import seaborn as sns\n",
    "\n",
    "from imblearn.over_sampling import SMOTE\n",
    "from collections import Counter"
   ]
  },
  {
   "cell_type": "code",
   "execution_count": 2,
   "metadata": {},
   "outputs": [],
   "source": [
    "# Loading registration datasets\n",
    "\n",
    "vaxreg_malaysia = pd.read_csv('dataset/registration/vaxreg_malaysia.csv')\n",
    "vaxreg_state = pd.read_csv('dataset/registration/vaxreg_state.csv')"
   ]
  },
  {
   "cell_type": "code",
   "execution_count": null,
   "metadata": {},
   "outputs": [],
   "source": []
  },
  {
   "cell_type": "code",
   "execution_count": null,
   "metadata": {},
   "outputs": [],
   "source": []
  },
  {
   "cell_type": "code",
   "execution_count": null,
   "metadata": {},
   "outputs": [],
   "source": []
  },
  {
   "cell_type": "markdown",
   "metadata": {},
   "source": [
    "## Documentation for registration datasets\n",
    "\n",
    "### File naming convention\n",
    "\n",
    "1) `vax_malaysia.csv`: Static name; file is updated daily (time may vary)<br>\n",
    "2) `vax_state.csv`: Static name; file is updated daily (time may vary)<br>\n",
    "\n",
    "### Variables\n",
    "\n",
    "1) `date`: yyyy-mm-dd format; data correct as of 2359hrs on that date<br>\n",
    "2) `state`: Name of state (for the Malaysia file, `state` = `Malaysia`)<br>\n",
    "3) `total`: Number of unique registrants, with de-duplication done based on ID<br>\n",
    "4) `phase2`: Number of unique individuals eligible for Phase 2, i.e. individuals who are _at least 1_ of `elderly`, `comorb`, `oku` (note: _not_ the sum of the 3)<br>\n",
    "5) `mysj`: Number of individuals registered via MySejahtera<br>\n",
    "6) `call`: Number of individuals registered via the call centre, who _do not have_ an existing registration via MySejahtera <br>\n",
    "7) `web`: Number of individuals registered via the website (including on-behalf-of registrations done during outreach) who _do not have_ an existing registration via MySejahtera or the call centre<br>\n",
    "8) `children`: Number of individuals below 18yo<br>\n",
    "9) `elderly`: Number of individuals aged 60yo and above<br>\n",
    "10) `comorb`: Number of individuals self-declaring at least 1 comorbidity<br>\n",
    "11) `oku`: Number of individuals self-declaring as OKU<br>\n",
    "\n",
    "### Methodological choices\n",
    "+ We provide cumulative rater than marginal data because the primary function of reg data is as the source for appointment generation. Consequently, cumulative numbers matter much more than marginals. However, daily registrations can easily be derived from the series by doing `X_{t} - X_{t-1}` for any of the variables `X` in the dataset.\n",
    "+ The descriptions of the `mysj`, `call`, and `web` variables above imply that `mysj >> call >> web` in terms of priority during de-duplication. Why? First, MySejahtera is the mode of registration that gives a user most control over their vaccination journey. Consequently, this likely provides the highest-quality and most up-to-date information (particularly when new features are launched, e.g. registration for expectant and lactating mothers). Second, registrations via the call centre are prioritised over those via the website because a human agent is verifying information gathered via the call centre. Third, web-based registrations can be (and often are) submitted on another's behalf. \n"
   ]
  }
 ],
 "metadata": {
  "kernelspec": {
   "display_name": "Python 3",
   "language": "python",
   "name": "python3"
  },
  "language_info": {
   "codemirror_mode": {
    "name": "ipython",
    "version": 3
   },
   "file_extension": ".py",
   "mimetype": "text/x-python",
   "name": "python",
   "nbconvert_exporter": "python",
   "pygments_lexer": "ipython3",
   "version": "3.8.5"
  }
 },
 "nbformat": 4,
 "nbformat_minor": 4
}
