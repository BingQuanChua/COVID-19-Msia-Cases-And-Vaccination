{
 "cells": [
  {
   "cell_type": "markdown",
   "metadata": {},
   "source": [
    "# Exploratory Data Analysis - MySejahtera"
   ]
  },
  {
   "cell_type": "code",
   "execution_count": 1,
   "metadata": {},
   "outputs": [],
   "source": [
    "import pandas as pd\n",
    "import numpy as np\n",
    "import matplotlib.pyplot as plt\n",
    "import seaborn as sns\n",
    "\n",
    "from imblearn.over_sampling import SMOTE\n",
    "from collections import Counter"
   ]
  },
  {
   "cell_type": "code",
   "execution_count": 2,
   "metadata": {},
   "outputs": [],
   "source": [
    "# Loading mysejahtera datasets\n",
    "\n",
    "checkin_malaysia = pd.read_csv('dataset/mysejahtera/checkin_malaysia.csv')\n",
    "checkin_malaysia_time = pd.read_csv('dataset/mysejahtera/checkin_malaysia_time.csv')\n",
    "checkin_state = pd.read_csv('dataset/mysejahtera/checkin_state.csv')\n",
    "trace_malaysia = pd.read_csv('dataset/mysejahtera/trace_malaysia.csv')"
   ]
  },
  {
   "cell_type": "markdown",
   "metadata": {},
   "source": [
    "#### Minor finding\n",
    "- The checkin_state doesn't align with checkin_malaysia and checkin_malaysia_time.csv"
   ]
  },
  {
   "cell_type": "code",
   "execution_count": null,
   "metadata": {},
   "outputs": [],
   "source": []
  },
  {
   "cell_type": "code",
   "execution_count": null,
   "metadata": {},
   "outputs": [],
   "source": []
  },
  {
   "cell_type": "code",
   "execution_count": null,
   "metadata": {},
   "outputs": [],
   "source": []
  },
  {
   "cell_type": "markdown",
   "metadata": {},
   "source": [
    "# Documentation for MySejahtera datasets\n",
    "\n",
    "_Note: As per the MySejahtera privacy policy, individual-level check-in data is purged after 90 days. These summary statistics are stored only as aggregated totals; MySejahtera does not store the underlying data. Consequently, data revisions are not possible for dates more than 90 days ago, even if an inconsistency is spotted._\n",
    "\n",
    "## File naming convention\n",
    "\n",
    "1) `checkin_malaysia.csv`: Static name; file is updated by 1500hrs daily<br>\n",
    "2) `checkin_malaysia_time.csv`: Static name; file is updated by 1500hrs daily<br>\n",
    "3) `trace_malaysia.csv`: Static name; file is updated by 1500hrs daily<br>\n",
    "\n",
    "## Variables and Methodology\n",
    "\n",
    "1) `date`: yyyy-mm-dd format; data correct as of 2359hrs on that date<br>\n",
    "2) `checkins`: number of checkins at all locations registered on MySejahtera<br>\n",
    "3) `unique_ind`: number of unique accounts which checked in<br>\n",
    "4) `unique_loc`: number of unique premises checked into<br>\n",
    "5) `i`: in the time density file, checkins are aggregated by half-hour buckets, giving 48 in total; bucket `i` corresponds to the ith half-hour slot of the day. for instance, `i = 0` corresponds to 0000 - 0029; `i = 31` corresponds to 1500 - 1529.<br>\n",
    "6) `casual_contacts`: number of casual contacts identified and notified by CPRC's automated contact tracing system<br>\n",
    "7) `hide_large`: number of large hotspots identified by CPRC's hotspot identification system<br>\n",
    "8) `hide_small`: number of small hotspots identified by CPRC's hotspot identification system<br>"
   ]
  }
 ],
 "metadata": {
  "kernelspec": {
   "display_name": "Python 3",
   "language": "python",
   "name": "python3"
  },
  "language_info": {
   "codemirror_mode": {
    "name": "ipython",
    "version": 3
   },
   "file_extension": ".py",
   "mimetype": "text/x-python",
   "name": "python",
   "nbconvert_exporter": "python",
   "pygments_lexer": "ipython3",
   "version": "3.8.5"
  }
 },
 "nbformat": 4,
 "nbformat_minor": 4
}
