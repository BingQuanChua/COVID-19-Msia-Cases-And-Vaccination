{
 "cells": [
  {
   "cell_type": "markdown",
   "metadata": {},
   "source": [
    "# Malaysia COVID-19 Cases and Vaccination"
   ]
  },
  {
   "cell_type": "markdown",
   "metadata": {},
   "source": [
    "Data taken from [**Malaysia's Ministry of Health**](https://github.com/MoH-Malaysia/covid19-public) and [**COVID-19 Immunisation Task Force (CITF)**](https://github.com/CITF-Malaysia/citf-public) as of **`6-10-2021`** (cut-off date).\n",
    "\n",
    "1. [covid19-public](https://github.com/MoH-Malaysia/covid19-public/tree/9a8482527c486effa37900756631f843af4d6373)\n",
    "2. [citf-public](https://github.com/CITF-Malaysia/citf-public/tree/46f91d6e18e38a24034bf8f791cd279b31f94f24)"
   ]
  },
  {
   "cell_type": "code",
   "execution_count": null,
   "metadata": {},
   "outputs": [],
   "source": [
    "import pandas as pd\n",
    "import numpy as np\n",
    "import matplotlib.pyplot as plt\n",
    "import seaborn as sns\n",
    "import plotly.express as px\n",
    "import plotly.graph_objects as go\n",
    "import math\n",
    "import pickle\n",
    "\n",
    "from imblearn.over_sampling import SMOTE\n",
    "from collections import Counter"
   ]
  },
  {
   "cell_type": "markdown",
   "metadata": {},
   "source": [
    "## 1. Loading Cleaned Datasets\n",
    "\n",
    "Loading cleaned datasets that was pickled in `EDA_Epidemic.ipynb`, `EDA_Vaccination_&_Registration.ipynb`, and `EDA_MySejahtera.ipynb`"
   ]
  },
  {
   "cell_type": "code",
   "execution_count": null,
   "metadata": {},
   "outputs": [],
   "source": [
    "##### EPIDEMIC dataset #####\n",
    "## Cases and Testing\n",
    "cases_malaysia = pickle.load(open('pickle_files/cases_malaysia.pkl', 'rb'))\n",
    "cases_malaysia_cluster = pickle.load(open('pickle_files/cases_malaysia_cluster.pkl', 'rb'))\n",
    "cases_state = pickle.load(open('pickle_files/cases_state.pkl', 'rb')) \n",
    "\n",
    "tests_malaysia = pickle.load(open('pickle_files/tests_malaysia.pkl', 'rb')) \n",
    "tests_state = pickle.load(open('pickle_files/tests_state.pkl', 'rb')) \n",
    "\n",
    "## Deaths\n",
    "deaths_malaysia = pickle.load(open('pickle_files/deaths_malaysia.pkl', 'rb'))\n",
    "deaths_state = pickle.load(open('pickle_files/deaths_state.pkl', 'rb')) \n",
    "\n",
    "## Static Data\n",
    "population = pd.read_csv('dataset/static/population_moh.csv')\n",
    "\n",
    "##### VACCINATION & REGISTRATION dataset #####\n",
    "## Adverse Events Following Immunization (AEFI)\n",
    "aefi = pickle.load(open('pickle_files/aefi.pkl', 'rb'))\n",
    "aefi_serious = pickle.load(open('pickle_files/aefi.pkl', 'rb'))\n",
    "\n",
    "## Vaccination\n",
    "vax_malaysia = pickle.load(open('pickle_files/vax_malaysia.pkl', 'rb'))\n",
    "vax_state = pickle.load(open('pickle_files/vax_state.pkl', 'rb'))\n",
    "\n",
    "## Registration\n",
    "vaxreg_malaysia = pickle.load(open('pickle_files/vaxreg_malaysia.pkl', 'rb'))\n",
    "vaxreg_state = pickle.load(open('pickle_files/vaxreg_state.pkl', 'rb'))\n",
    "\n",
    "##### MYSEJAHTERA dataset #####\n",
    "checkin_malaysia = pickle.load(open('pickle_files/checkin_malaysia.pkl', 'rb'))\n",
    "checkin_malaysia_time = pickle.load(open('pickle_files/checkin_malaysia_time.pkl', 'rb'))\n",
    "checkin_state = pickle.load(open('pickle_files/checkin_state.pkl', 'rb'))\n",
    "trace_malaysia = pickle.load(open('pickle_files/trace_malaysia.pkl', 'rb'))"
   ]
  },
  {
   "cell_type": "code",
   "execution_count": null,
   "metadata": {},
   "outputs": [],
   "source": []
  }
 ],
 "metadata": {
  "kernelspec": {
   "display_name": "Python 3",
   "language": "python",
   "name": "python3"
  },
  "language_info": {
   "codemirror_mode": {
    "name": "ipython",
    "version": 3
   },
   "file_extension": ".py",
   "mimetype": "text/x-python",
   "name": "python",
   "nbconvert_exporter": "python",
   "pygments_lexer": "ipython3",
   "version": "3.8.5"
  }
 },
 "nbformat": 4,
 "nbformat_minor": 5
}
